{
  "nbformat": 4,
  "nbformat_minor": 0,
  "metadata": {
    "kernelspec": {
      "display_name": "Python 3",
      "language": "python",
      "name": "python3"
    },
    "language_info": {
      "codemirror_mode": {
        "name": "ipython",
        "version": 3
      },
      "file_extension": ".py",
      "mimetype": "text/x-python",
      "name": "python",
      "nbconvert_exporter": "python",
      "pygments_lexer": "ipython3",
      "version": "3.7.3"
    },
    "colab": {
      "name": "2.LS_DS_Regression_2_assignment.ipynb",
      "provenance": [],
      "collapsed_sections": [],
      "include_colab_link": true
    }
  },
  "cells": [
    {
      "cell_type": "markdown",
      "metadata": {
        "id": "view-in-github",
        "colab_type": "text"
      },
      "source": [
        "<a href=\"https://colab.research.google.com/github/duellal/DS-Unit-2-Linear-Models/blob/master/2_LS_DS_Regression_2_assignment.ipynb\" target=\"_parent\"><img src=\"https://colab.research.google.com/assets/colab-badge.svg\" alt=\"Open In Colab\"/></a>"
      ]
    },
    {
      "cell_type": "markdown",
      "metadata": {
        "id": "SDDdjsnYP9V-"
      },
      "source": [
        "Lambda School Data Science\n",
        "\n",
        "*Unit 2, Sprint 1, Module 2*\n",
        "\n",
        "---"
      ]
    },
    {
      "cell_type": "markdown",
      "metadata": {
        "id": "7IXUfiQ2UKj6"
      },
      "source": [
        "# Regression 2\n",
        "\n",
        "## Assignment\n",
        "\n",
        "You'll continue to **predict how much it costs to rent an apartment in NYC,** using the dataset from renthop.com.\n",
        "\n",
        "- [ ] Do train/test split. Use data from April & May 2016 to train. Use data from June 2016 to test.\n",
        "- [ ] Engineer at least two new features. (See below for explanation & ideas.)\n",
        "- [ ] Fit a linear regression model with at least two features.\n",
        "- [ ] Get the model's coefficients and intercept.\n",
        "- [ ] Get regression metrics RMSE, MAE, and $R^2$, for both the train and test data.\n",
        "- [ ] What's the best test MAE you can get? Share your score and features used with your cohort on Slack!\n",
        "- [ ] As always, commit your notebook to your fork of the GitHub repo.\n",
        "\n",
        "\n",
        "#### [Feature Engineering](https://en.wikipedia.org/wiki/Feature_engineering)\n",
        "\n",
        "> \"Some machine learning projects succeed and some fail. What makes the difference? Easily the most important factor is the features used.\" — Pedro Domingos, [\"A Few Useful Things to Know about Machine Learning\"](https://homes.cs.washington.edu/~pedrod/papers/cacm12.pdf)\n",
        "\n",
        "> \"Coming up with features is difficult, time-consuming, requires expert knowledge. 'Applied machine learning' is basically feature engineering.\" — Andrew Ng, [Machine Learning and AI via Brain simulations](https://forum.stanford.edu/events/2011/2011slides/plenary/2011plenaryNg.pdf) \n",
        "\n",
        "> Feature engineering is the process of using domain knowledge of the data to create features that make machine learning algorithms work. \n",
        "\n",
        "#### Feature Ideas\n",
        "- Does the apartment have a description?\n",
        "- How long is the description?\n",
        "- How many total perks does each apartment have?\n",
        "- Are cats _or_ dogs allowed?\n",
        "- Are cats _and_ dogs allowed?\n",
        "- Total number of rooms (beds + baths)\n",
        "- Ratio of beds to baths\n",
        "- What's the neighborhood, based on address or latitude & longitude?\n",
        "\n",
        "## Stretch Goals\n",
        "- [ ] If you want more math, skim [_An Introduction to Statistical Learning_](http://faculty.marshall.usc.edu/gareth-james/ISL/ISLR%20Seventh%20Printing.pdf),  Chapter 3.1, Simple Linear Regression, & Chapter 3.2, Multiple Linear Regression\n",
        "- [ ] If you want more introduction, watch [Brandon Foltz, Statistics 101: Simple Linear Regression](https://www.youtube.com/watch?v=ZkjP5RJLQF4)\n",
        "(20 minutes, over 1 million views)\n",
        "- [ ] Add your own stretch goal(s)!"
      ]
    },
    {
      "cell_type": "markdown",
      "metadata": {
        "id": "24CMS7jcwyls"
      },
      "source": [
        "0 = False/null\n",
        "\n",
        "1 = True/opposite of null"
      ]
    },
    {
      "cell_type": "code",
      "metadata": {
        "id": "o9eSnDYhUGD7"
      },
      "source": [
        "%%capture\n",
        "import sys\n",
        "\n",
        "# If you're on Colab:\n",
        "if 'google.colab' in sys.modules:\n",
        "    DATA_PATH = 'https://raw.githubusercontent.com/LambdaSchool/DS-Unit-2-Applied-Modeling/master/data/'\n",
        "    !pip install category_encoders==2.*\n",
        "\n",
        "# If you're working locally:\n",
        "else:\n",
        "    DATA_PATH = '../data/'\n",
        "    \n",
        "# Ignore this Numpy warning when using Plotly Express:\n",
        "# FutureWarning: Method .ptp is deprecated and will be removed in a future version. Use numpy.ptp instead.\n",
        "import warnings\n",
        "warnings.filterwarnings(action='ignore', category=FutureWarning, module='numpy')"
      ],
      "execution_count": null,
      "outputs": []
    },
    {
      "cell_type": "code",
      "metadata": {
        "id": "cvrw-T3bZOuW"
      },
      "source": [
        "import numpy as np\n",
        "import pandas as pd\n",
        "\n",
        "# Read New York City apartment rental listing data\n",
        "df = pd.read_csv(DATA_PATH+'apartments/renthop-nyc.csv')\n",
        "assert df.shape == (49352, 34)\n",
        "\n",
        "# Remove the most extreme 1% prices,\n",
        "# the most extreme .1% latitudes, &\n",
        "# the most extreme .1% longitudes\n",
        "df = df[(df['price'] >= np.percentile(df['price'], 0.5)) & \n",
        "        (df['price'] <= np.percentile(df['price'], 99.5)) & \n",
        "        (df['latitude'] >= np.percentile(df['latitude'], 0.05)) & \n",
        "        (df['latitude'] < np.percentile(df['latitude'], 99.95)) &\n",
        "        (df['longitude'] >= np.percentile(df['longitude'], 0.05)) & \n",
        "        (df['longitude'] <= np.percentile(df['longitude'], 99.95))]"
      ],
      "execution_count": null,
      "outputs": []
    },
    {
      "cell_type": "code",
      "metadata": {
        "colab": {
          "base_uri": "https://localhost:8080/",
          "height": 250
        },
        "id": "hazcOD08slWG",
        "outputId": "bbb192b5-4d36-470c-c25f-a0be25ab1912"
      },
      "source": [
        "df.head(2)"
      ],
      "execution_count": null,
      "outputs": [
        {
          "output_type": "execute_result",
          "data": {
            "text/html": [
              "<div>\n",
              "<style scoped>\n",
              "    .dataframe tbody tr th:only-of-type {\n",
              "        vertical-align: middle;\n",
              "    }\n",
              "\n",
              "    .dataframe tbody tr th {\n",
              "        vertical-align: top;\n",
              "    }\n",
              "\n",
              "    .dataframe thead th {\n",
              "        text-align: right;\n",
              "    }\n",
              "</style>\n",
              "<table border=\"1\" class=\"dataframe\">\n",
              "  <thead>\n",
              "    <tr style=\"text-align: right;\">\n",
              "      <th></th>\n",
              "      <th>bathrooms</th>\n",
              "      <th>bedrooms</th>\n",
              "      <th>created</th>\n",
              "      <th>description</th>\n",
              "      <th>display_address</th>\n",
              "      <th>latitude</th>\n",
              "      <th>longitude</th>\n",
              "      <th>price</th>\n",
              "      <th>street_address</th>\n",
              "      <th>interest_level</th>\n",
              "      <th>elevator</th>\n",
              "      <th>cats_allowed</th>\n",
              "      <th>hardwood_floors</th>\n",
              "      <th>dogs_allowed</th>\n",
              "      <th>doorman</th>\n",
              "      <th>dishwasher</th>\n",
              "      <th>no_fee</th>\n",
              "      <th>laundry_in_building</th>\n",
              "      <th>fitness_center</th>\n",
              "      <th>pre-war</th>\n",
              "      <th>laundry_in_unit</th>\n",
              "      <th>roof_deck</th>\n",
              "      <th>outdoor_space</th>\n",
              "      <th>dining_room</th>\n",
              "      <th>high_speed_internet</th>\n",
              "      <th>balcony</th>\n",
              "      <th>swimming_pool</th>\n",
              "      <th>new_construction</th>\n",
              "      <th>terrace</th>\n",
              "      <th>exclusive</th>\n",
              "      <th>loft</th>\n",
              "      <th>garden_patio</th>\n",
              "      <th>wheelchair_access</th>\n",
              "      <th>common_outdoor_space</th>\n",
              "    </tr>\n",
              "  </thead>\n",
              "  <tbody>\n",
              "    <tr>\n",
              "      <th>0</th>\n",
              "      <td>1.5</td>\n",
              "      <td>3</td>\n",
              "      <td>2016-06-24 07:54:24</td>\n",
              "      <td>A Brand New 3 Bedroom 1.5 bath ApartmentEnjoy ...</td>\n",
              "      <td>Metropolitan Avenue</td>\n",
              "      <td>40.7145</td>\n",
              "      <td>-73.9425</td>\n",
              "      <td>3000</td>\n",
              "      <td>792 Metropolitan Avenue</td>\n",
              "      <td>medium</td>\n",
              "      <td>0</td>\n",
              "      <td>0</td>\n",
              "      <td>0</td>\n",
              "      <td>0</td>\n",
              "      <td>0</td>\n",
              "      <td>0</td>\n",
              "      <td>0</td>\n",
              "      <td>0</td>\n",
              "      <td>0</td>\n",
              "      <td>0</td>\n",
              "      <td>0</td>\n",
              "      <td>0</td>\n",
              "      <td>0</td>\n",
              "      <td>0</td>\n",
              "      <td>0</td>\n",
              "      <td>0</td>\n",
              "      <td>0</td>\n",
              "      <td>0</td>\n",
              "      <td>0</td>\n",
              "      <td>0</td>\n",
              "      <td>0</td>\n",
              "      <td>0</td>\n",
              "      <td>0</td>\n",
              "      <td>0</td>\n",
              "    </tr>\n",
              "    <tr>\n",
              "      <th>1</th>\n",
              "      <td>1.0</td>\n",
              "      <td>2</td>\n",
              "      <td>2016-06-12 12:19:27</td>\n",
              "      <td></td>\n",
              "      <td>Columbus Avenue</td>\n",
              "      <td>40.7947</td>\n",
              "      <td>-73.9667</td>\n",
              "      <td>5465</td>\n",
              "      <td>808 Columbus Avenue</td>\n",
              "      <td>low</td>\n",
              "      <td>1</td>\n",
              "      <td>1</td>\n",
              "      <td>0</td>\n",
              "      <td>1</td>\n",
              "      <td>1</td>\n",
              "      <td>0</td>\n",
              "      <td>0</td>\n",
              "      <td>0</td>\n",
              "      <td>1</td>\n",
              "      <td>0</td>\n",
              "      <td>0</td>\n",
              "      <td>0</td>\n",
              "      <td>0</td>\n",
              "      <td>0</td>\n",
              "      <td>0</td>\n",
              "      <td>0</td>\n",
              "      <td>0</td>\n",
              "      <td>0</td>\n",
              "      <td>0</td>\n",
              "      <td>0</td>\n",
              "      <td>0</td>\n",
              "      <td>0</td>\n",
              "      <td>0</td>\n",
              "      <td>0</td>\n",
              "    </tr>\n",
              "  </tbody>\n",
              "</table>\n",
              "</div>"
            ],
            "text/plain": [
              "   bathrooms  bedrooms  ... wheelchair_access common_outdoor_space\n",
              "0        1.5         3  ...                 0                    0\n",
              "1        1.0         2  ...                 0                    0\n",
              "\n",
              "[2 rows x 34 columns]"
            ]
          },
          "metadata": {
            "tags": []
          },
          "execution_count": 92
        }
      ]
    },
    {
      "cell_type": "code",
      "metadata": {
        "colab": {
          "base_uri": "https://localhost:8080/"
        },
        "id": "nqiSlmKFwwAP",
        "outputId": "49ab0a68-fd99-47c4-ab83-7d1432c1a70a"
      },
      "source": [
        "print('Double checking that the only dates are between April and June.')\n",
        "print()\n",
        "print(df['created'].value_counts().sort_index())"
      ],
      "execution_count": null,
      "outputs": [
        {
          "output_type": "stream",
          "text": [
            "Double checking that the only dates are between April and June.\n",
            "\n",
            "2016-04-01 22:12:41    1\n",
            "2016-04-01 22:56:00    1\n",
            "2016-04-01 22:57:15    1\n",
            "2016-04-01 23:26:07    1\n",
            "2016-04-02 00:48:13    1\n",
            "                      ..\n",
            "2016-06-29 17:47:34    1\n",
            "2016-06-29 17:56:12    1\n",
            "2016-06-29 18:14:48    1\n",
            "2016-06-29 18:30:41    1\n",
            "2016-06-29 21:41:47    1\n",
            "Name: created, Length: 48148, dtype: int64\n"
          ],
          "name": "stdout"
        }
      ]
    },
    {
      "cell_type": "markdown",
      "metadata": {
        "id": "hGUQCE9PvV_D"
      },
      "source": [
        "##Designing new features:\n",
        "\n",
        "- Outdoor areas: roof deck, outdoor space, balcony, terrace, garden patio, or common outdoor space\n",
        "- Handicapped friendly: elevator, laundry in unit, and wheelchair access\n",
        "- Number of words per description"
      ]
    },
    {
      "cell_type": "code",
      "metadata": {
        "id": "N_LROXaPwCsP"
      },
      "source": [
        "def outdoor_areas(roof_deck, outdoor_space, balcony, terrace, garden_patio, common_outdoor_space):\n",
        "  if roof_deck == 1:\n",
        "    return 1\n",
        "  elif outdoor_space == 1:\n",
        "    return 1\n",
        "  elif balcony == 1:\n",
        "    return 1\n",
        "  elif terrace == 1:\n",
        "    return 1\n",
        "  elif garden_patio == 1:\n",
        "    return 1\n",
        "  elif common_outdoor_space == 1:\n",
        "    return 1\n",
        "  else:\n",
        "     return 0"
      ],
      "execution_count": null,
      "outputs": []
    },
    {
      "cell_type": "code",
      "metadata": {
        "colab": {
          "base_uri": "https://localhost:8080/"
        },
        "id": "n-pVM06uy0qe",
        "outputId": "1ac5771d-1fbc-43a9-9866-fa226e2c11b8"
      },
      "source": [
        "df['All Outdoor Areas'] = df[['roof_deck', 'outdoor_space', 'balcony', 'terrace', \n",
        "                          'garden_patio', 'common_outdoor_space']].apply(lambda x: outdoor_areas(*x), axis=1)\n",
        "\n",
        "print('Apartment has at least 1 outdoor area:\\n', df['All Outdoor Areas'].value_counts())"
      ],
      "execution_count": null,
      "outputs": [
        {
          "output_type": "stream",
          "text": [
            "Apartment has at least 1 outdoor area:\n",
            " 0    36379\n",
            "1    12438\n",
            "Name: All Outdoor Areas, dtype: int64\n"
          ],
          "name": "stdout"
        }
      ]
    },
    {
      "cell_type": "code",
      "metadata": {
        "id": "aW6uWy_s-Ux-"
      },
      "source": [
        "def handicap_friendly(elevator, laundry_in_unit, wheelchair_access):\n",
        "  if elevator == 1 and laundry_in_unit == 1 and wheelchair_access == 1:\n",
        "    return 1\n",
        "  else:\n",
        "    return 0"
      ],
      "execution_count": null,
      "outputs": []
    },
    {
      "cell_type": "code",
      "metadata": {
        "colab": {
          "base_uri": "https://localhost:8080/"
        },
        "id": "CP0dz6EQ-y-h",
        "outputId": "4fba2cf0-55c3-4636-a44c-a02df8eb199d"
      },
      "source": [
        "df['Handicapped Friendly'] = df[['elevator', 'laundry_in_unit', 'wheelchair_access']].apply(lambda x: handicap_friendly(*x), axis=1)\n",
        "print('Apartment is Handicapped Friendly:\\n', df['Handicapped Friendly'].value_counts())"
      ],
      "execution_count": null,
      "outputs": [
        {
          "output_type": "stream",
          "text": [
            "Apartment is Handicapped Friendly:\n",
            " 0    48203\n",
            "1      614\n",
            "Name: Handicapped Friendly, dtype: int64\n"
          ],
          "name": "stdout"
        }
      ]
    },
    {
      "cell_type": "code",
      "metadata": {
        "colab": {
          "base_uri": "https://localhost:8080/",
          "height": 267
        },
        "id": "X7vg_0eM_Tmf",
        "outputId": "f887f632-378a-4854-f5c6-ed65539a0604"
      },
      "source": [
        "df['Decription Word #'] = df['description'].str.split().str.len()\n",
        "df.head(2)"
      ],
      "execution_count": null,
      "outputs": [
        {
          "output_type": "execute_result",
          "data": {
            "text/html": [
              "<div>\n",
              "<style scoped>\n",
              "    .dataframe tbody tr th:only-of-type {\n",
              "        vertical-align: middle;\n",
              "    }\n",
              "\n",
              "    .dataframe tbody tr th {\n",
              "        vertical-align: top;\n",
              "    }\n",
              "\n",
              "    .dataframe thead th {\n",
              "        text-align: right;\n",
              "    }\n",
              "</style>\n",
              "<table border=\"1\" class=\"dataframe\">\n",
              "  <thead>\n",
              "    <tr style=\"text-align: right;\">\n",
              "      <th></th>\n",
              "      <th>bathrooms</th>\n",
              "      <th>bedrooms</th>\n",
              "      <th>created</th>\n",
              "      <th>description</th>\n",
              "      <th>display_address</th>\n",
              "      <th>latitude</th>\n",
              "      <th>longitude</th>\n",
              "      <th>price</th>\n",
              "      <th>street_address</th>\n",
              "      <th>interest_level</th>\n",
              "      <th>elevator</th>\n",
              "      <th>cats_allowed</th>\n",
              "      <th>hardwood_floors</th>\n",
              "      <th>dogs_allowed</th>\n",
              "      <th>doorman</th>\n",
              "      <th>dishwasher</th>\n",
              "      <th>no_fee</th>\n",
              "      <th>laundry_in_building</th>\n",
              "      <th>fitness_center</th>\n",
              "      <th>pre-war</th>\n",
              "      <th>laundry_in_unit</th>\n",
              "      <th>roof_deck</th>\n",
              "      <th>outdoor_space</th>\n",
              "      <th>dining_room</th>\n",
              "      <th>high_speed_internet</th>\n",
              "      <th>balcony</th>\n",
              "      <th>swimming_pool</th>\n",
              "      <th>new_construction</th>\n",
              "      <th>terrace</th>\n",
              "      <th>exclusive</th>\n",
              "      <th>loft</th>\n",
              "      <th>garden_patio</th>\n",
              "      <th>wheelchair_access</th>\n",
              "      <th>common_outdoor_space</th>\n",
              "      <th>All Outdoor Areas</th>\n",
              "      <th>Handicapped Friendly</th>\n",
              "      <th>Decription Word #</th>\n",
              "    </tr>\n",
              "  </thead>\n",
              "  <tbody>\n",
              "    <tr>\n",
              "      <th>0</th>\n",
              "      <td>1.5</td>\n",
              "      <td>3</td>\n",
              "      <td>2016-06-24 07:54:24</td>\n",
              "      <td>A Brand New 3 Bedroom 1.5 bath ApartmentEnjoy ...</td>\n",
              "      <td>Metropolitan Avenue</td>\n",
              "      <td>40.7145</td>\n",
              "      <td>-73.9425</td>\n",
              "      <td>3000</td>\n",
              "      <td>792 Metropolitan Avenue</td>\n",
              "      <td>medium</td>\n",
              "      <td>0</td>\n",
              "      <td>0</td>\n",
              "      <td>0</td>\n",
              "      <td>0</td>\n",
              "      <td>0</td>\n",
              "      <td>0</td>\n",
              "      <td>0</td>\n",
              "      <td>0</td>\n",
              "      <td>0</td>\n",
              "      <td>0</td>\n",
              "      <td>0</td>\n",
              "      <td>0</td>\n",
              "      <td>0</td>\n",
              "      <td>0</td>\n",
              "      <td>0</td>\n",
              "      <td>0</td>\n",
              "      <td>0</td>\n",
              "      <td>0</td>\n",
              "      <td>0</td>\n",
              "      <td>0</td>\n",
              "      <td>0</td>\n",
              "      <td>0</td>\n",
              "      <td>0</td>\n",
              "      <td>0</td>\n",
              "      <td>0</td>\n",
              "      <td>0</td>\n",
              "      <td>93.0</td>\n",
              "    </tr>\n",
              "    <tr>\n",
              "      <th>1</th>\n",
              "      <td>1.0</td>\n",
              "      <td>2</td>\n",
              "      <td>2016-06-12 12:19:27</td>\n",
              "      <td></td>\n",
              "      <td>Columbus Avenue</td>\n",
              "      <td>40.7947</td>\n",
              "      <td>-73.9667</td>\n",
              "      <td>5465</td>\n",
              "      <td>808 Columbus Avenue</td>\n",
              "      <td>low</td>\n",
              "      <td>1</td>\n",
              "      <td>1</td>\n",
              "      <td>0</td>\n",
              "      <td>1</td>\n",
              "      <td>1</td>\n",
              "      <td>0</td>\n",
              "      <td>0</td>\n",
              "      <td>0</td>\n",
              "      <td>1</td>\n",
              "      <td>0</td>\n",
              "      <td>0</td>\n",
              "      <td>0</td>\n",
              "      <td>0</td>\n",
              "      <td>0</td>\n",
              "      <td>0</td>\n",
              "      <td>0</td>\n",
              "      <td>0</td>\n",
              "      <td>0</td>\n",
              "      <td>0</td>\n",
              "      <td>0</td>\n",
              "      <td>0</td>\n",
              "      <td>0</td>\n",
              "      <td>0</td>\n",
              "      <td>0</td>\n",
              "      <td>0</td>\n",
              "      <td>0</td>\n",
              "      <td>0.0</td>\n",
              "    </tr>\n",
              "  </tbody>\n",
              "</table>\n",
              "</div>"
            ],
            "text/plain": [
              "   bathrooms  bedrooms  ... Handicapped Friendly Decription Word #\n",
              "0        1.5         3  ...                    0              93.0\n",
              "1        1.0         2  ...                    0               0.0\n",
              "\n",
              "[2 rows x 37 columns]"
            ]
          },
          "metadata": {
            "tags": []
          },
          "execution_count": 98
        }
      ]
    },
    {
      "cell_type": "code",
      "metadata": {
        "id": "U7XUSmmsV5H0"
      },
      "source": [
        "def interest_level(interest_level):\n",
        "  if interest_level == 'low':\n",
        "    return 0\n",
        "  if interest_level == 'medium':\n",
        "    return 1\n",
        "  if interest_level == 'high':\n",
        "    return 2"
      ],
      "execution_count": null,
      "outputs": []
    },
    {
      "cell_type": "code",
      "metadata": {
        "colab": {
          "base_uri": "https://localhost:8080/",
          "height": 202
        },
        "id": "stJY_nl6UFh_",
        "outputId": "898d31fe-a5e0-4484-8b3a-e45b7a3a3f2b"
      },
      "source": [
        "df['Amenities'] = (df['elevator'] + df['dishwasher'] + df['laundry_in_unit'] + df['fitness_center'] + df['roof_deck'] +\n",
        "                  df['outdoor_space'] + df['dining_room'] + df['high_speed_internet'] + df['balcony'] + df['swimming_pool'] +\n",
        "                  df['terrace'] + df['garden_patio'] + df['common_outdoor_space'] + df['doorman'] + df['dining_room'])\n",
        "\n",
        "df['# of Rooms'] = (df['bathrooms'] + df['bedrooms'])\n",
        "\n",
        "df['Interest Level'] = df['interest_level'].apply(interest_level)\n",
        "\n",
        "df['Pets Allowed'] = (df['dogs_allowed'] + df['cats_allowed'])\n",
        "df.head(1)"
      ],
      "execution_count": null,
      "outputs": [
        {
          "output_type": "execute_result",
          "data": {
            "text/html": [
              "<div>\n",
              "<style scoped>\n",
              "    .dataframe tbody tr th:only-of-type {\n",
              "        vertical-align: middle;\n",
              "    }\n",
              "\n",
              "    .dataframe tbody tr th {\n",
              "        vertical-align: top;\n",
              "    }\n",
              "\n",
              "    .dataframe thead th {\n",
              "        text-align: right;\n",
              "    }\n",
              "</style>\n",
              "<table border=\"1\" class=\"dataframe\">\n",
              "  <thead>\n",
              "    <tr style=\"text-align: right;\">\n",
              "      <th></th>\n",
              "      <th>bathrooms</th>\n",
              "      <th>bedrooms</th>\n",
              "      <th>created</th>\n",
              "      <th>description</th>\n",
              "      <th>display_address</th>\n",
              "      <th>latitude</th>\n",
              "      <th>longitude</th>\n",
              "      <th>price</th>\n",
              "      <th>street_address</th>\n",
              "      <th>interest_level</th>\n",
              "      <th>elevator</th>\n",
              "      <th>cats_allowed</th>\n",
              "      <th>hardwood_floors</th>\n",
              "      <th>dogs_allowed</th>\n",
              "      <th>doorman</th>\n",
              "      <th>dishwasher</th>\n",
              "      <th>no_fee</th>\n",
              "      <th>laundry_in_building</th>\n",
              "      <th>fitness_center</th>\n",
              "      <th>pre-war</th>\n",
              "      <th>laundry_in_unit</th>\n",
              "      <th>roof_deck</th>\n",
              "      <th>outdoor_space</th>\n",
              "      <th>dining_room</th>\n",
              "      <th>high_speed_internet</th>\n",
              "      <th>balcony</th>\n",
              "      <th>swimming_pool</th>\n",
              "      <th>new_construction</th>\n",
              "      <th>terrace</th>\n",
              "      <th>exclusive</th>\n",
              "      <th>loft</th>\n",
              "      <th>garden_patio</th>\n",
              "      <th>wheelchair_access</th>\n",
              "      <th>common_outdoor_space</th>\n",
              "      <th>All Outdoor Areas</th>\n",
              "      <th>Handicapped Friendly</th>\n",
              "      <th>Decription Word #</th>\n",
              "      <th>Amenities</th>\n",
              "      <th># of Rooms</th>\n",
              "      <th>Interest Level</th>\n",
              "      <th>Pets Allowed</th>\n",
              "      <th>year_month created</th>\n",
              "    </tr>\n",
              "  </thead>\n",
              "  <tbody>\n",
              "    <tr>\n",
              "      <th>0</th>\n",
              "      <td>1.5</td>\n",
              "      <td>3</td>\n",
              "      <td>2016-06-24 07:54:24</td>\n",
              "      <td>A Brand New 3 Bedroom 1.5 bath ApartmentEnjoy ...</td>\n",
              "      <td>Metropolitan Avenue</td>\n",
              "      <td>40.7145</td>\n",
              "      <td>-73.9425</td>\n",
              "      <td>3000</td>\n",
              "      <td>792 Metropolitan Avenue</td>\n",
              "      <td>medium</td>\n",
              "      <td>0</td>\n",
              "      <td>0</td>\n",
              "      <td>0</td>\n",
              "      <td>0</td>\n",
              "      <td>0</td>\n",
              "      <td>0</td>\n",
              "      <td>0</td>\n",
              "      <td>0</td>\n",
              "      <td>0</td>\n",
              "      <td>0</td>\n",
              "      <td>0</td>\n",
              "      <td>0</td>\n",
              "      <td>0</td>\n",
              "      <td>0</td>\n",
              "      <td>0</td>\n",
              "      <td>0</td>\n",
              "      <td>0</td>\n",
              "      <td>0</td>\n",
              "      <td>0</td>\n",
              "      <td>0</td>\n",
              "      <td>0</td>\n",
              "      <td>0</td>\n",
              "      <td>0</td>\n",
              "      <td>0</td>\n",
              "      <td>0</td>\n",
              "      <td>0</td>\n",
              "      <td>93.0</td>\n",
              "      <td>0</td>\n",
              "      <td>4.5</td>\n",
              "      <td>1</td>\n",
              "      <td>0</td>\n",
              "      <td>2016-06</td>\n",
              "    </tr>\n",
              "  </tbody>\n",
              "</table>\n",
              "</div>"
            ],
            "text/plain": [
              "   bathrooms  bedrooms  ... Pets Allowed year_month created\n",
              "0        1.5         3  ...            0            2016-06\n",
              "\n",
              "[1 rows x 42 columns]"
            ]
          },
          "metadata": {
            "tags": []
          },
          "execution_count": 179
        }
      ]
    },
    {
      "cell_type": "code",
      "metadata": {
        "colab": {
          "base_uri": "https://localhost:8080/",
          "height": 1000
        },
        "id": "mWCYwO45XZlF",
        "outputId": "173c5516-15af-40c2-a2ad-05b2ea651d7f"
      },
      "source": [
        "df.corr()"
      ],
      "execution_count": null,
      "outputs": [
        {
          "output_type": "execute_result",
          "data": {
            "text/html": [
              "<div>\n",
              "<style scoped>\n",
              "    .dataframe tbody tr th:only-of-type {\n",
              "        vertical-align: middle;\n",
              "    }\n",
              "\n",
              "    .dataframe tbody tr th {\n",
              "        vertical-align: top;\n",
              "    }\n",
              "\n",
              "    .dataframe thead th {\n",
              "        text-align: right;\n",
              "    }\n",
              "</style>\n",
              "<table border=\"1\" class=\"dataframe\">\n",
              "  <thead>\n",
              "    <tr style=\"text-align: right;\">\n",
              "      <th></th>\n",
              "      <th>bathrooms</th>\n",
              "      <th>bedrooms</th>\n",
              "      <th>latitude</th>\n",
              "      <th>longitude</th>\n",
              "      <th>price</th>\n",
              "      <th>elevator</th>\n",
              "      <th>cats_allowed</th>\n",
              "      <th>hardwood_floors</th>\n",
              "      <th>dogs_allowed</th>\n",
              "      <th>doorman</th>\n",
              "      <th>dishwasher</th>\n",
              "      <th>no_fee</th>\n",
              "      <th>laundry_in_building</th>\n",
              "      <th>fitness_center</th>\n",
              "      <th>pre-war</th>\n",
              "      <th>laundry_in_unit</th>\n",
              "      <th>roof_deck</th>\n",
              "      <th>outdoor_space</th>\n",
              "      <th>dining_room</th>\n",
              "      <th>high_speed_internet</th>\n",
              "      <th>balcony</th>\n",
              "      <th>swimming_pool</th>\n",
              "      <th>new_construction</th>\n",
              "      <th>terrace</th>\n",
              "      <th>exclusive</th>\n",
              "      <th>loft</th>\n",
              "      <th>garden_patio</th>\n",
              "      <th>wheelchair_access</th>\n",
              "      <th>common_outdoor_space</th>\n",
              "      <th>All Outdoor Areas</th>\n",
              "      <th>Handicapped Friendly</th>\n",
              "      <th>Decription Word #</th>\n",
              "      <th>Amenities</th>\n",
              "      <th># of Rooms</th>\n",
              "      <th>Interest Level</th>\n",
              "      <th>Pets Allowed</th>\n",
              "    </tr>\n",
              "  </thead>\n",
              "  <tbody>\n",
              "    <tr>\n",
              "      <th>bathrooms</th>\n",
              "      <td>1.000000</td>\n",
              "      <td>0.524082</td>\n",
              "      <td>0.013407</td>\n",
              "      <td>-0.020099</td>\n",
              "      <td>0.687296</td>\n",
              "      <td>0.132882</td>\n",
              "      <td>0.021475</td>\n",
              "      <td>0.096922</td>\n",
              "      <td>0.024539</td>\n",
              "      <td>0.157173</td>\n",
              "      <td>0.172230</td>\n",
              "      <td>0.129547</td>\n",
              "      <td>-0.013202</td>\n",
              "      <td>0.148334</td>\n",
              "      <td>-0.016214</td>\n",
              "      <td>0.209366</td>\n",
              "      <td>0.102113</td>\n",
              "      <td>0.144450</td>\n",
              "      <td>0.233038</td>\n",
              "      <td>0.089073</td>\n",
              "      <td>0.136990</td>\n",
              "      <td>0.113315</td>\n",
              "      <td>0.066826</td>\n",
              "      <td>0.140767</td>\n",
              "      <td>-0.001944</td>\n",
              "      <td>0.014260</td>\n",
              "      <td>0.096283</td>\n",
              "      <td>0.066940</td>\n",
              "      <td>-0.003403</td>\n",
              "      <td>0.162202</td>\n",
              "      <td>0.080678</td>\n",
              "      <td>0.136763</td>\n",
              "      <td>0.270375</td>\n",
              "      <td>0.744468</td>\n",
              "      <td>-0.072246</td>\n",
              "      <td>0.023373</td>\n",
              "    </tr>\n",
              "    <tr>\n",
              "      <th>bedrooms</th>\n",
              "      <td>0.524082</td>\n",
              "      <td>1.000000</td>\n",
              "      <td>0.003490</td>\n",
              "      <td>0.055117</td>\n",
              "      <td>0.535503</td>\n",
              "      <td>-0.024821</td>\n",
              "      <td>-0.011173</td>\n",
              "      <td>0.096420</td>\n",
              "      <td>-0.009750</td>\n",
              "      <td>-0.047562</td>\n",
              "      <td>0.152102</td>\n",
              "      <td>0.163000</td>\n",
              "      <td>0.008558</td>\n",
              "      <td>0.013150</td>\n",
              "      <td>0.001420</td>\n",
              "      <td>0.151790</td>\n",
              "      <td>0.045451</td>\n",
              "      <td>0.124912</td>\n",
              "      <td>0.189415</td>\n",
              "      <td>0.061006</td>\n",
              "      <td>0.097772</td>\n",
              "      <td>0.033441</td>\n",
              "      <td>0.000907</td>\n",
              "      <td>0.099149</td>\n",
              "      <td>-0.014880</td>\n",
              "      <td>-0.107341</td>\n",
              "      <td>0.070760</td>\n",
              "      <td>0.012306</td>\n",
              "      <td>0.003234</td>\n",
              "      <td>0.114414</td>\n",
              "      <td>0.013825</td>\n",
              "      <td>0.099223</td>\n",
              "      <td>0.132823</td>\n",
              "      <td>0.958785</td>\n",
              "      <td>0.040735</td>\n",
              "      <td>-0.010631</td>\n",
              "    </tr>\n",
              "    <tr>\n",
              "      <th>latitude</th>\n",
              "      <td>0.013407</td>\n",
              "      <td>0.003490</td>\n",
              "      <td>1.000000</td>\n",
              "      <td>0.329185</td>\n",
              "      <td>-0.036286</td>\n",
              "      <td>-0.010523</td>\n",
              "      <td>-0.029808</td>\n",
              "      <td>0.018653</td>\n",
              "      <td>-0.030954</td>\n",
              "      <td>-0.043393</td>\n",
              "      <td>-0.020612</td>\n",
              "      <td>-0.026788</td>\n",
              "      <td>-0.041635</td>\n",
              "      <td>-0.108455</td>\n",
              "      <td>0.026802</td>\n",
              "      <td>-0.044339</td>\n",
              "      <td>-0.063198</td>\n",
              "      <td>-0.079919</td>\n",
              "      <td>0.017146</td>\n",
              "      <td>-0.030969</td>\n",
              "      <td>0.016877</td>\n",
              "      <td>0.027020</td>\n",
              "      <td>-0.056093</td>\n",
              "      <td>0.006466</td>\n",
              "      <td>-0.060054</td>\n",
              "      <td>-0.015650</td>\n",
              "      <td>-0.000589</td>\n",
              "      <td>-0.068330</td>\n",
              "      <td>-0.117199</td>\n",
              "      <td>-0.095882</td>\n",
              "      <td>-0.041558</td>\n",
              "      <td>-0.039736</td>\n",
              "      <td>-0.057805</td>\n",
              "      <td>0.007209</td>\n",
              "      <td>-0.046203</td>\n",
              "      <td>-0.030868</td>\n",
              "    </tr>\n",
              "    <tr>\n",
              "      <th>longitude</th>\n",
              "      <td>-0.020099</td>\n",
              "      <td>0.055117</td>\n",
              "      <td>0.329185</td>\n",
              "      <td>1.000000</td>\n",
              "      <td>-0.251004</td>\n",
              "      <td>-0.189836</td>\n",
              "      <td>-0.058475</td>\n",
              "      <td>-0.108493</td>\n",
              "      <td>-0.070329</td>\n",
              "      <td>-0.275734</td>\n",
              "      <td>-0.169220</td>\n",
              "      <td>-0.088033</td>\n",
              "      <td>-0.044562</td>\n",
              "      <td>-0.254960</td>\n",
              "      <td>0.000196</td>\n",
              "      <td>-0.130139</td>\n",
              "      <td>-0.161466</td>\n",
              "      <td>-0.098595</td>\n",
              "      <td>-0.024793</td>\n",
              "      <td>-0.125635</td>\n",
              "      <td>-0.035474</td>\n",
              "      <td>-0.075046</td>\n",
              "      <td>-0.108001</td>\n",
              "      <td>-0.049016</td>\n",
              "      <td>0.046755</td>\n",
              "      <td>-0.060018</td>\n",
              "      <td>-0.029846</td>\n",
              "      <td>-0.063635</td>\n",
              "      <td>-0.102955</td>\n",
              "      <td>-0.175481</td>\n",
              "      <td>-0.029845</td>\n",
              "      <td>-0.095826</td>\n",
              "      <td>-0.249191</td>\n",
              "      <td>0.036503</td>\n",
              "      <td>0.059222</td>\n",
              "      <td>-0.065423</td>\n",
              "    </tr>\n",
              "    <tr>\n",
              "      <th>price</th>\n",
              "      <td>0.687296</td>\n",
              "      <td>0.535503</td>\n",
              "      <td>-0.036286</td>\n",
              "      <td>-0.251004</td>\n",
              "      <td>1.000000</td>\n",
              "      <td>0.207169</td>\n",
              "      <td>0.051453</td>\n",
              "      <td>0.101503</td>\n",
              "      <td>0.060401</td>\n",
              "      <td>0.276215</td>\n",
              "      <td>0.223899</td>\n",
              "      <td>0.132240</td>\n",
              "      <td>-0.019417</td>\n",
              "      <td>0.228775</td>\n",
              "      <td>-0.029122</td>\n",
              "      <td>0.271195</td>\n",
              "      <td>0.122929</td>\n",
              "      <td>0.142146</td>\n",
              "      <td>0.242911</td>\n",
              "      <td>0.090269</td>\n",
              "      <td>0.139140</td>\n",
              "      <td>0.134513</td>\n",
              "      <td>0.071431</td>\n",
              "      <td>0.145973</td>\n",
              "      <td>-0.013251</td>\n",
              "      <td>0.007100</td>\n",
              "      <td>0.103672</td>\n",
              "      <td>0.072517</td>\n",
              "      <td>0.011517</td>\n",
              "      <td>0.189714</td>\n",
              "      <td>0.092276</td>\n",
              "      <td>0.157691</td>\n",
              "      <td>0.345543</td>\n",
              "      <td>0.649097</td>\n",
              "      <td>-0.203596</td>\n",
              "      <td>0.056815</td>\n",
              "    </tr>\n",
              "    <tr>\n",
              "      <th>elevator</th>\n",
              "      <td>0.132882</td>\n",
              "      <td>-0.024821</td>\n",
              "      <td>-0.010523</td>\n",
              "      <td>-0.189836</td>\n",
              "      <td>0.207169</td>\n",
              "      <td>1.000000</td>\n",
              "      <td>0.033347</td>\n",
              "      <td>0.270831</td>\n",
              "      <td>0.034833</td>\n",
              "      <td>0.614558</td>\n",
              "      <td>0.349832</td>\n",
              "      <td>0.227895</td>\n",
              "      <td>0.141097</td>\n",
              "      <td>0.431070</td>\n",
              "      <td>-0.097015</td>\n",
              "      <td>0.134158</td>\n",
              "      <td>0.332028</td>\n",
              "      <td>0.204343</td>\n",
              "      <td>0.200591</td>\n",
              "      <td>0.277666</td>\n",
              "      <td>0.168081</td>\n",
              "      <td>0.183664</td>\n",
              "      <td>0.184178</td>\n",
              "      <td>0.135329</td>\n",
              "      <td>0.025895</td>\n",
              "      <td>0.054918</td>\n",
              "      <td>0.084056</td>\n",
              "      <td>0.155396</td>\n",
              "      <td>0.114882</td>\n",
              "      <td>0.365357</td>\n",
              "      <td>0.107388</td>\n",
              "      <td>0.225435</td>\n",
              "      <td>0.645122</td>\n",
              "      <td>0.024873</td>\n",
              "      <td>-0.008542</td>\n",
              "      <td>0.034636</td>\n",
              "    </tr>\n",
              "    <tr>\n",
              "      <th>cats_allowed</th>\n",
              "      <td>0.021475</td>\n",
              "      <td>-0.011173</td>\n",
              "      <td>-0.029808</td>\n",
              "      <td>-0.058475</td>\n",
              "      <td>0.051453</td>\n",
              "      <td>0.033347</td>\n",
              "      <td>1.000000</td>\n",
              "      <td>-0.177633</td>\n",
              "      <td>0.937245</td>\n",
              "      <td>0.088480</td>\n",
              "      <td>-0.047880</td>\n",
              "      <td>-0.024052</td>\n",
              "      <td>0.105644</td>\n",
              "      <td>0.126886</td>\n",
              "      <td>0.047500</td>\n",
              "      <td>-0.008827</td>\n",
              "      <td>0.027590</td>\n",
              "      <td>0.066713</td>\n",
              "      <td>-0.022404</td>\n",
              "      <td>0.077759</td>\n",
              "      <td>0.019979</td>\n",
              "      <td>0.009704</td>\n",
              "      <td>0.042710</td>\n",
              "      <td>0.006152</td>\n",
              "      <td>0.031414</td>\n",
              "      <td>-0.037966</td>\n",
              "      <td>0.006690</td>\n",
              "      <td>0.039656</td>\n",
              "      <td>0.104496</td>\n",
              "      <td>0.046039</td>\n",
              "      <td>0.023675</td>\n",
              "      <td>0.043902</td>\n",
              "      <td>0.057880</td>\n",
              "      <td>-0.001594</td>\n",
              "      <td>-0.057777</td>\n",
              "      <td>0.984259</td>\n",
              "    </tr>\n",
              "    <tr>\n",
              "      <th>hardwood_floors</th>\n",
              "      <td>0.096922</td>\n",
              "      <td>0.096420</td>\n",
              "      <td>0.018653</td>\n",
              "      <td>-0.108493</td>\n",
              "      <td>0.101503</td>\n",
              "      <td>0.270831</td>\n",
              "      <td>-0.177633</td>\n",
              "      <td>1.000000</td>\n",
              "      <td>-0.185663</td>\n",
              "      <td>0.205119</td>\n",
              "      <td>0.634983</td>\n",
              "      <td>0.342971</td>\n",
              "      <td>-0.144728</td>\n",
              "      <td>0.167510</td>\n",
              "      <td>0.013435</td>\n",
              "      <td>0.360716</td>\n",
              "      <td>0.278727</td>\n",
              "      <td>0.188913</td>\n",
              "      <td>0.317281</td>\n",
              "      <td>0.237935</td>\n",
              "      <td>0.178089</td>\n",
              "      <td>0.170589</td>\n",
              "      <td>0.187635</td>\n",
              "      <td>0.181005</td>\n",
              "      <td>-0.194436</td>\n",
              "      <td>0.116572</td>\n",
              "      <td>0.161751</td>\n",
              "      <td>0.124829</td>\n",
              "      <td>-0.120489</td>\n",
              "      <td>0.302021</td>\n",
              "      <td>0.106470</td>\n",
              "      <td>0.250248</td>\n",
              "      <td>0.484844</td>\n",
              "      <td>0.107922</td>\n",
              "      <td>0.118992</td>\n",
              "      <td>-0.184558</td>\n",
              "    </tr>\n",
              "    <tr>\n",
              "      <th>dogs_allowed</th>\n",
              "      <td>0.024539</td>\n",
              "      <td>-0.009750</td>\n",
              "      <td>-0.030954</td>\n",
              "      <td>-0.070329</td>\n",
              "      <td>0.060401</td>\n",
              "      <td>0.034833</td>\n",
              "      <td>0.937245</td>\n",
              "      <td>-0.185663</td>\n",
              "      <td>1.000000</td>\n",
              "      <td>0.095434</td>\n",
              "      <td>-0.043839</td>\n",
              "      <td>-0.011414</td>\n",
              "      <td>0.093035</td>\n",
              "      <td>0.131521</td>\n",
              "      <td>0.051610</td>\n",
              "      <td>0.002510</td>\n",
              "      <td>0.034104</td>\n",
              "      <td>0.067859</td>\n",
              "      <td>-0.016154</td>\n",
              "      <td>0.089425</td>\n",
              "      <td>0.024472</td>\n",
              "      <td>0.009675</td>\n",
              "      <td>0.055655</td>\n",
              "      <td>0.005219</td>\n",
              "      <td>0.032729</td>\n",
              "      <td>-0.041014</td>\n",
              "      <td>0.009229</td>\n",
              "      <td>0.048123</td>\n",
              "      <td>0.106071</td>\n",
              "      <td>0.053924</td>\n",
              "      <td>0.030739</td>\n",
              "      <td>0.056194</td>\n",
              "      <td>0.066691</td>\n",
              "      <td>0.000543</td>\n",
              "      <td>-0.064214</td>\n",
              "      <td>0.984113</td>\n",
              "    </tr>\n",
              "    <tr>\n",
              "      <th>doorman</th>\n",
              "      <td>0.157173</td>\n",
              "      <td>-0.047562</td>\n",
              "      <td>-0.043393</td>\n",
              "      <td>-0.275734</td>\n",
              "      <td>0.276215</td>\n",
              "      <td>0.614558</td>\n",
              "      <td>0.088480</td>\n",
              "      <td>0.205119</td>\n",
              "      <td>0.095434</td>\n",
              "      <td>1.000000</td>\n",
              "      <td>0.312710</td>\n",
              "      <td>0.257031</td>\n",
              "      <td>0.077216</td>\n",
              "      <td>0.604863</td>\n",
              "      <td>-0.054614</td>\n",
              "      <td>0.166397</td>\n",
              "      <td>0.388921</td>\n",
              "      <td>0.205656</td>\n",
              "      <td>0.195814</td>\n",
              "      <td>0.312036</td>\n",
              "      <td>0.160789</td>\n",
              "      <td>0.263833</td>\n",
              "      <td>0.219943</td>\n",
              "      <td>0.126936</td>\n",
              "      <td>-0.074747</td>\n",
              "      <td>0.010080</td>\n",
              "      <td>0.075956</td>\n",
              "      <td>0.168161</td>\n",
              "      <td>0.126708</td>\n",
              "      <td>0.392933</td>\n",
              "      <td>0.116070</td>\n",
              "      <td>0.258141</td>\n",
              "      <td>0.686030</td>\n",
              "      <td>0.015150</td>\n",
              "      <td>-0.078467</td>\n",
              "      <td>0.093426</td>\n",
              "    </tr>\n",
              "    <tr>\n",
              "      <th>dishwasher</th>\n",
              "      <td>0.172230</td>\n",
              "      <td>0.152102</td>\n",
              "      <td>-0.020612</td>\n",
              "      <td>-0.169220</td>\n",
              "      <td>0.223899</td>\n",
              "      <td>0.349832</td>\n",
              "      <td>-0.047880</td>\n",
              "      <td>0.634983</td>\n",
              "      <td>-0.043839</td>\n",
              "      <td>0.312710</td>\n",
              "      <td>1.000000</td>\n",
              "      <td>0.366541</td>\n",
              "      <td>-0.102877</td>\n",
              "      <td>0.275843</td>\n",
              "      <td>0.008460</td>\n",
              "      <td>0.441321</td>\n",
              "      <td>0.307143</td>\n",
              "      <td>0.226304</td>\n",
              "      <td>0.351799</td>\n",
              "      <td>0.256543</td>\n",
              "      <td>0.228604</td>\n",
              "      <td>0.193021</td>\n",
              "      <td>0.207113</td>\n",
              "      <td>0.194097</td>\n",
              "      <td>-0.105287</td>\n",
              "      <td>0.056860</td>\n",
              "      <td>0.175388</td>\n",
              "      <td>0.137787</td>\n",
              "      <td>-0.086532</td>\n",
              "      <td>0.358660</td>\n",
              "      <td>0.121293</td>\n",
              "      <td>0.301407</td>\n",
              "      <td>0.642950</td>\n",
              "      <td>0.176698</td>\n",
              "      <td>0.064014</td>\n",
              "      <td>-0.046601</td>\n",
              "    </tr>\n",
              "    <tr>\n",
              "      <th>no_fee</th>\n",
              "      <td>0.129547</td>\n",
              "      <td>0.163000</td>\n",
              "      <td>-0.026788</td>\n",
              "      <td>-0.088033</td>\n",
              "      <td>0.132240</td>\n",
              "      <td>0.227895</td>\n",
              "      <td>-0.024052</td>\n",
              "      <td>0.342971</td>\n",
              "      <td>-0.011414</td>\n",
              "      <td>0.257031</td>\n",
              "      <td>0.366541</td>\n",
              "      <td>1.000000</td>\n",
              "      <td>0.033720</td>\n",
              "      <td>0.300008</td>\n",
              "      <td>0.004821</td>\n",
              "      <td>0.276804</td>\n",
              "      <td>0.269647</td>\n",
              "      <td>0.212788</td>\n",
              "      <td>0.227117</td>\n",
              "      <td>0.248743</td>\n",
              "      <td>0.125943</td>\n",
              "      <td>0.192543</td>\n",
              "      <td>0.186170</td>\n",
              "      <td>0.134888</td>\n",
              "      <td>-0.019004</td>\n",
              "      <td>-0.009957</td>\n",
              "      <td>0.101490</td>\n",
              "      <td>0.122778</td>\n",
              "      <td>0.030246</td>\n",
              "      <td>0.300902</td>\n",
              "      <td>0.097858</td>\n",
              "      <td>0.289333</td>\n",
              "      <td>0.428483</td>\n",
              "      <td>0.171002</td>\n",
              "      <td>0.139567</td>\n",
              "      <td>-0.018032</td>\n",
              "    </tr>\n",
              "    <tr>\n",
              "      <th>laundry_in_building</th>\n",
              "      <td>-0.013202</td>\n",
              "      <td>0.008558</td>\n",
              "      <td>-0.041635</td>\n",
              "      <td>-0.044562</td>\n",
              "      <td>-0.019417</td>\n",
              "      <td>0.141097</td>\n",
              "      <td>0.105644</td>\n",
              "      <td>-0.144728</td>\n",
              "      <td>0.093035</td>\n",
              "      <td>0.077216</td>\n",
              "      <td>-0.102877</td>\n",
              "      <td>0.033720</td>\n",
              "      <td>1.000000</td>\n",
              "      <td>0.113193</td>\n",
              "      <td>-0.098556</td>\n",
              "      <td>-0.088349</td>\n",
              "      <td>-0.040502</td>\n",
              "      <td>0.242385</td>\n",
              "      <td>-0.051854</td>\n",
              "      <td>-0.009624</td>\n",
              "      <td>-0.029896</td>\n",
              "      <td>-0.015731</td>\n",
              "      <td>-0.033337</td>\n",
              "      <td>-0.025751</td>\n",
              "      <td>0.046117</td>\n",
              "      <td>-0.029917</td>\n",
              "      <td>-0.032673</td>\n",
              "      <td>-0.028224</td>\n",
              "      <td>0.595203</td>\n",
              "      <td>0.144808</td>\n",
              "      <td>-0.024994</td>\n",
              "      <td>0.005093</td>\n",
              "      <td>0.067561</td>\n",
              "      <td>0.002304</td>\n",
              "      <td>0.100112</td>\n",
              "      <td>0.100951</td>\n",
              "    </tr>\n",
              "    <tr>\n",
              "      <th>fitness_center</th>\n",
              "      <td>0.148334</td>\n",
              "      <td>0.013150</td>\n",
              "      <td>-0.108455</td>\n",
              "      <td>-0.254960</td>\n",
              "      <td>0.228775</td>\n",
              "      <td>0.431070</td>\n",
              "      <td>0.126886</td>\n",
              "      <td>0.167510</td>\n",
              "      <td>0.131521</td>\n",
              "      <td>0.604863</td>\n",
              "      <td>0.275843</td>\n",
              "      <td>0.300008</td>\n",
              "      <td>0.113193</td>\n",
              "      <td>1.000000</td>\n",
              "      <td>-0.060509</td>\n",
              "      <td>0.185003</td>\n",
              "      <td>0.467424</td>\n",
              "      <td>0.243543</td>\n",
              "      <td>0.181309</td>\n",
              "      <td>0.380143</td>\n",
              "      <td>0.128291</td>\n",
              "      <td>0.349652</td>\n",
              "      <td>0.322501</td>\n",
              "      <td>0.104746</td>\n",
              "      <td>-0.070290</td>\n",
              "      <td>-0.021882</td>\n",
              "      <td>0.084319</td>\n",
              "      <td>0.227019</td>\n",
              "      <td>0.196382</td>\n",
              "      <td>0.449791</td>\n",
              "      <td>0.158519</td>\n",
              "      <td>0.256185</td>\n",
              "      <td>0.666506</td>\n",
              "      <td>0.059796</td>\n",
              "      <td>-0.042343</td>\n",
              "      <td>0.131274</td>\n",
              "    </tr>\n",
              "    <tr>\n",
              "      <th>pre-war</th>\n",
              "      <td>-0.016214</td>\n",
              "      <td>0.001420</td>\n",
              "      <td>0.026802</td>\n",
              "      <td>0.000196</td>\n",
              "      <td>-0.029122</td>\n",
              "      <td>-0.097015</td>\n",
              "      <td>0.047500</td>\n",
              "      <td>0.013435</td>\n",
              "      <td>0.051610</td>\n",
              "      <td>-0.054614</td>\n",
              "      <td>0.008460</td>\n",
              "      <td>0.004821</td>\n",
              "      <td>-0.098556</td>\n",
              "      <td>-0.060509</td>\n",
              "      <td>1.000000</td>\n",
              "      <td>0.030830</td>\n",
              "      <td>0.028846</td>\n",
              "      <td>-0.052219</td>\n",
              "      <td>0.010238</td>\n",
              "      <td>0.040087</td>\n",
              "      <td>-0.040016</td>\n",
              "      <td>-0.037909</td>\n",
              "      <td>-0.058051</td>\n",
              "      <td>-0.021496</td>\n",
              "      <td>-0.067159</td>\n",
              "      <td>-0.032330</td>\n",
              "      <td>-0.022076</td>\n",
              "      <td>0.017245</td>\n",
              "      <td>-0.066845</td>\n",
              "      <td>-0.026617</td>\n",
              "      <td>0.012296</td>\n",
              "      <td>0.006565</td>\n",
              "      <td>-0.042395</td>\n",
              "      <td>-0.004296</td>\n",
              "      <td>-0.038278</td>\n",
              "      <td>0.050347</td>\n",
              "    </tr>\n",
              "    <tr>\n",
              "      <th>laundry_in_unit</th>\n",
              "      <td>0.209366</td>\n",
              "      <td>0.151790</td>\n",
              "      <td>-0.044339</td>\n",
              "      <td>-0.130139</td>\n",
              "      <td>0.271195</td>\n",
              "      <td>0.134158</td>\n",
              "      <td>-0.008827</td>\n",
              "      <td>0.360716</td>\n",
              "      <td>0.002510</td>\n",
              "      <td>0.166397</td>\n",
              "      <td>0.441321</td>\n",
              "      <td>0.276804</td>\n",
              "      <td>-0.088349</td>\n",
              "      <td>0.185003</td>\n",
              "      <td>0.030830</td>\n",
              "      <td>1.000000</td>\n",
              "      <td>0.203273</td>\n",
              "      <td>0.180365</td>\n",
              "      <td>0.249222</td>\n",
              "      <td>0.195122</td>\n",
              "      <td>0.159753</td>\n",
              "      <td>0.182092</td>\n",
              "      <td>0.246230</td>\n",
              "      <td>0.153368</td>\n",
              "      <td>-0.078204</td>\n",
              "      <td>0.044501</td>\n",
              "      <td>0.159506</td>\n",
              "      <td>0.126700</td>\n",
              "      <td>-0.061032</td>\n",
              "      <td>0.253138</td>\n",
              "      <td>0.244288</td>\n",
              "      <td>0.247983</td>\n",
              "      <td>0.480366</td>\n",
              "      <td>0.188843</td>\n",
              "      <td>0.015665</td>\n",
              "      <td>-0.003223</td>\n",
              "    </tr>\n",
              "    <tr>\n",
              "      <th>roof_deck</th>\n",
              "      <td>0.102113</td>\n",
              "      <td>0.045451</td>\n",
              "      <td>-0.063198</td>\n",
              "      <td>-0.161466</td>\n",
              "      <td>0.122929</td>\n",
              "      <td>0.332028</td>\n",
              "      <td>0.027590</td>\n",
              "      <td>0.278727</td>\n",
              "      <td>0.034104</td>\n",
              "      <td>0.388921</td>\n",
              "      <td>0.307143</td>\n",
              "      <td>0.269647</td>\n",
              "      <td>-0.040502</td>\n",
              "      <td>0.467424</td>\n",
              "      <td>0.028846</td>\n",
              "      <td>0.203273</td>\n",
              "      <td>1.000000</td>\n",
              "      <td>0.187427</td>\n",
              "      <td>0.182764</td>\n",
              "      <td>0.507095</td>\n",
              "      <td>0.135779</td>\n",
              "      <td>0.261222</td>\n",
              "      <td>0.359374</td>\n",
              "      <td>0.127016</td>\n",
              "      <td>-0.044092</td>\n",
              "      <td>0.027824</td>\n",
              "      <td>0.095689</td>\n",
              "      <td>0.329260</td>\n",
              "      <td>-0.016265</td>\n",
              "      <td>0.669139</td>\n",
              "      <td>0.231577</td>\n",
              "      <td>0.219958</td>\n",
              "      <td>0.586217</td>\n",
              "      <td>0.069698</td>\n",
              "      <td>0.014348</td>\n",
              "      <td>0.031335</td>\n",
              "    </tr>\n",
              "    <tr>\n",
              "      <th>outdoor_space</th>\n",
              "      <td>0.144450</td>\n",
              "      <td>0.124912</td>\n",
              "      <td>-0.079919</td>\n",
              "      <td>-0.098595</td>\n",
              "      <td>0.142146</td>\n",
              "      <td>0.204343</td>\n",
              "      <td>0.066713</td>\n",
              "      <td>0.188913</td>\n",
              "      <td>0.067859</td>\n",
              "      <td>0.205656</td>\n",
              "      <td>0.226304</td>\n",
              "      <td>0.212788</td>\n",
              "      <td>0.242385</td>\n",
              "      <td>0.243543</td>\n",
              "      <td>-0.052219</td>\n",
              "      <td>0.180365</td>\n",
              "      <td>0.187427</td>\n",
              "      <td>1.000000</td>\n",
              "      <td>0.259025</td>\n",
              "      <td>0.169862</td>\n",
              "      <td>0.375174</td>\n",
              "      <td>0.123128</td>\n",
              "      <td>0.118544</td>\n",
              "      <td>0.406945</td>\n",
              "      <td>-0.020858</td>\n",
              "      <td>0.043845</td>\n",
              "      <td>0.360510</td>\n",
              "      <td>0.076578</td>\n",
              "      <td>0.409598</td>\n",
              "      <td>0.685417</td>\n",
              "      <td>0.080925</td>\n",
              "      <td>0.195110</td>\n",
              "      <td>0.533669</td>\n",
              "      <td>0.146115</td>\n",
              "      <td>0.071750</td>\n",
              "      <td>0.068366</td>\n",
              "    </tr>\n",
              "    <tr>\n",
              "      <th>dining_room</th>\n",
              "      <td>0.233038</td>\n",
              "      <td>0.189415</td>\n",
              "      <td>0.017146</td>\n",
              "      <td>-0.024793</td>\n",
              "      <td>0.242911</td>\n",
              "      <td>0.200591</td>\n",
              "      <td>-0.022404</td>\n",
              "      <td>0.317281</td>\n",
              "      <td>-0.016154</td>\n",
              "      <td>0.195814</td>\n",
              "      <td>0.351799</td>\n",
              "      <td>0.227117</td>\n",
              "      <td>-0.051854</td>\n",
              "      <td>0.181309</td>\n",
              "      <td>0.010238</td>\n",
              "      <td>0.249222</td>\n",
              "      <td>0.182764</td>\n",
              "      <td>0.259025</td>\n",
              "      <td>1.000000</td>\n",
              "      <td>0.181729</td>\n",
              "      <td>0.241474</td>\n",
              "      <td>0.166509</td>\n",
              "      <td>0.112610</td>\n",
              "      <td>0.234905</td>\n",
              "      <td>-0.069710</td>\n",
              "      <td>0.058566</td>\n",
              "      <td>0.231961</td>\n",
              "      <td>0.099186</td>\n",
              "      <td>-0.042076</td>\n",
              "      <td>0.265740</td>\n",
              "      <td>0.119134</td>\n",
              "      <td>0.167380</td>\n",
              "      <td>0.568581</td>\n",
              "      <td>0.226236</td>\n",
              "      <td>0.044167</td>\n",
              "      <td>-0.019596</td>\n",
              "    </tr>\n",
              "    <tr>\n",
              "      <th>high_speed_internet</th>\n",
              "      <td>0.089073</td>\n",
              "      <td>0.061006</td>\n",
              "      <td>-0.030969</td>\n",
              "      <td>-0.125635</td>\n",
              "      <td>0.090269</td>\n",
              "      <td>0.277666</td>\n",
              "      <td>0.077759</td>\n",
              "      <td>0.237935</td>\n",
              "      <td>0.089425</td>\n",
              "      <td>0.312036</td>\n",
              "      <td>0.256543</td>\n",
              "      <td>0.248743</td>\n",
              "      <td>-0.009624</td>\n",
              "      <td>0.380143</td>\n",
              "      <td>0.040087</td>\n",
              "      <td>0.195122</td>\n",
              "      <td>0.507095</td>\n",
              "      <td>0.169862</td>\n",
              "      <td>0.181729</td>\n",
              "      <td>1.000000</td>\n",
              "      <td>0.142430</td>\n",
              "      <td>0.211411</td>\n",
              "      <td>0.421886</td>\n",
              "      <td>0.127417</td>\n",
              "      <td>-0.065403</td>\n",
              "      <td>0.008683</td>\n",
              "      <td>0.069316</td>\n",
              "      <td>0.400255</td>\n",
              "      <td>-0.016673</td>\n",
              "      <td>0.375472</td>\n",
              "      <td>0.286965</td>\n",
              "      <td>0.204237</td>\n",
              "      <td>0.519108</td>\n",
              "      <td>0.077542</td>\n",
              "      <td>0.041725</td>\n",
              "      <td>0.084922</td>\n",
              "    </tr>\n",
              "    <tr>\n",
              "      <th>balcony</th>\n",
              "      <td>0.136990</td>\n",
              "      <td>0.097772</td>\n",
              "      <td>0.016877</td>\n",
              "      <td>-0.035474</td>\n",
              "      <td>0.139140</td>\n",
              "      <td>0.168081</td>\n",
              "      <td>0.019979</td>\n",
              "      <td>0.178089</td>\n",
              "      <td>0.024472</td>\n",
              "      <td>0.160789</td>\n",
              "      <td>0.228604</td>\n",
              "      <td>0.125943</td>\n",
              "      <td>-0.029896</td>\n",
              "      <td>0.128291</td>\n",
              "      <td>-0.040016</td>\n",
              "      <td>0.159753</td>\n",
              "      <td>0.135779</td>\n",
              "      <td>0.375174</td>\n",
              "      <td>0.241474</td>\n",
              "      <td>0.142430</td>\n",
              "      <td>1.000000</td>\n",
              "      <td>0.116666</td>\n",
              "      <td>0.074290</td>\n",
              "      <td>0.458008</td>\n",
              "      <td>-0.038353</td>\n",
              "      <td>0.039492</td>\n",
              "      <td>0.312097</td>\n",
              "      <td>0.036246</td>\n",
              "      <td>-0.026593</td>\n",
              "      <td>0.433878</td>\n",
              "      <td>0.032290</td>\n",
              "      <td>0.127384</td>\n",
              "      <td>0.433651</td>\n",
              "      <td>0.122349</td>\n",
              "      <td>0.027028</td>\n",
              "      <td>0.022578</td>\n",
              "    </tr>\n",
              "    <tr>\n",
              "      <th>swimming_pool</th>\n",
              "      <td>0.113315</td>\n",
              "      <td>0.033441</td>\n",
              "      <td>0.027020</td>\n",
              "      <td>-0.075046</td>\n",
              "      <td>0.134513</td>\n",
              "      <td>0.183664</td>\n",
              "      <td>0.009704</td>\n",
              "      <td>0.170589</td>\n",
              "      <td>0.009675</td>\n",
              "      <td>0.263833</td>\n",
              "      <td>0.193021</td>\n",
              "      <td>0.192543</td>\n",
              "      <td>-0.015731</td>\n",
              "      <td>0.349652</td>\n",
              "      <td>-0.037909</td>\n",
              "      <td>0.182092</td>\n",
              "      <td>0.261222</td>\n",
              "      <td>0.123128</td>\n",
              "      <td>0.166509</td>\n",
              "      <td>0.211411</td>\n",
              "      <td>0.116666</td>\n",
              "      <td>1.000000</td>\n",
              "      <td>0.220397</td>\n",
              "      <td>0.103201</td>\n",
              "      <td>-0.049225</td>\n",
              "      <td>0.003059</td>\n",
              "      <td>0.074755</td>\n",
              "      <td>0.198217</td>\n",
              "      <td>-0.014992</td>\n",
              "      <td>0.244201</td>\n",
              "      <td>0.148981</td>\n",
              "      <td>0.142568</td>\n",
              "      <td>0.415058</td>\n",
              "      <td>0.064020</td>\n",
              "      <td>-0.001108</td>\n",
              "      <td>0.009845</td>\n",
              "    </tr>\n",
              "    <tr>\n",
              "      <th>new_construction</th>\n",
              "      <td>0.066826</td>\n",
              "      <td>0.000907</td>\n",
              "      <td>-0.056093</td>\n",
              "      <td>-0.108001</td>\n",
              "      <td>0.071431</td>\n",
              "      <td>0.184178</td>\n",
              "      <td>0.042710</td>\n",
              "      <td>0.187635</td>\n",
              "      <td>0.055655</td>\n",
              "      <td>0.219943</td>\n",
              "      <td>0.207113</td>\n",
              "      <td>0.186170</td>\n",
              "      <td>-0.033337</td>\n",
              "      <td>0.322501</td>\n",
              "      <td>-0.058051</td>\n",
              "      <td>0.246230</td>\n",
              "      <td>0.359374</td>\n",
              "      <td>0.118544</td>\n",
              "      <td>0.112610</td>\n",
              "      <td>0.421886</td>\n",
              "      <td>0.074290</td>\n",
              "      <td>0.220397</td>\n",
              "      <td>1.000000</td>\n",
              "      <td>0.079601</td>\n",
              "      <td>-0.047967</td>\n",
              "      <td>0.014052</td>\n",
              "      <td>0.061440</td>\n",
              "      <td>0.339891</td>\n",
              "      <td>-0.021081</td>\n",
              "      <td>0.262213</td>\n",
              "      <td>0.305025</td>\n",
              "      <td>0.200900</td>\n",
              "      <td>0.363184</td>\n",
              "      <td>0.023006</td>\n",
              "      <td>0.015816</td>\n",
              "      <td>0.049958</td>\n",
              "    </tr>\n",
              "    <tr>\n",
              "      <th>terrace</th>\n",
              "      <td>0.140767</td>\n",
              "      <td>0.099149</td>\n",
              "      <td>0.006466</td>\n",
              "      <td>-0.049016</td>\n",
              "      <td>0.145973</td>\n",
              "      <td>0.135329</td>\n",
              "      <td>0.006152</td>\n",
              "      <td>0.181005</td>\n",
              "      <td>0.005219</td>\n",
              "      <td>0.126936</td>\n",
              "      <td>0.194097</td>\n",
              "      <td>0.134888</td>\n",
              "      <td>-0.025751</td>\n",
              "      <td>0.104746</td>\n",
              "      <td>-0.021496</td>\n",
              "      <td>0.153368</td>\n",
              "      <td>0.127016</td>\n",
              "      <td>0.406945</td>\n",
              "      <td>0.234905</td>\n",
              "      <td>0.127417</td>\n",
              "      <td>0.458008</td>\n",
              "      <td>0.103201</td>\n",
              "      <td>0.079601</td>\n",
              "      <td>1.000000</td>\n",
              "      <td>-0.035793</td>\n",
              "      <td>0.077554</td>\n",
              "      <td>0.412350</td>\n",
              "      <td>0.047141</td>\n",
              "      <td>-0.026358</td>\n",
              "      <td>0.376364</td>\n",
              "      <td>0.052225</td>\n",
              "      <td>0.120152</td>\n",
              "      <td>0.410686</td>\n",
              "      <td>0.124689</td>\n",
              "      <td>0.028811</td>\n",
              "      <td>0.005778</td>\n",
              "    </tr>\n",
              "    <tr>\n",
              "      <th>exclusive</th>\n",
              "      <td>-0.001944</td>\n",
              "      <td>-0.014880</td>\n",
              "      <td>-0.060054</td>\n",
              "      <td>0.046755</td>\n",
              "      <td>-0.013251</td>\n",
              "      <td>0.025895</td>\n",
              "      <td>0.031414</td>\n",
              "      <td>-0.194436</td>\n",
              "      <td>0.032729</td>\n",
              "      <td>-0.074747</td>\n",
              "      <td>-0.105287</td>\n",
              "      <td>-0.019004</td>\n",
              "      <td>0.046117</td>\n",
              "      <td>-0.070290</td>\n",
              "      <td>-0.067159</td>\n",
              "      <td>-0.078204</td>\n",
              "      <td>-0.044092</td>\n",
              "      <td>-0.020858</td>\n",
              "      <td>-0.069710</td>\n",
              "      <td>-0.065403</td>\n",
              "      <td>-0.038353</td>\n",
              "      <td>-0.049225</td>\n",
              "      <td>-0.047967</td>\n",
              "      <td>-0.035793</td>\n",
              "      <td>1.000000</td>\n",
              "      <td>-0.032994</td>\n",
              "      <td>-0.030622</td>\n",
              "      <td>-0.034355</td>\n",
              "      <td>0.033071</td>\n",
              "      <td>-0.044027</td>\n",
              "      <td>-0.022206</td>\n",
              "      <td>0.065309</td>\n",
              "      <td>-0.091750</td>\n",
              "      <td>-0.012313</td>\n",
              "      <td>0.016218</td>\n",
              "      <td>0.032586</td>\n",
              "    </tr>\n",
              "    <tr>\n",
              "      <th>loft</th>\n",
              "      <td>0.014260</td>\n",
              "      <td>-0.107341</td>\n",
              "      <td>-0.015650</td>\n",
              "      <td>-0.060018</td>\n",
              "      <td>0.007100</td>\n",
              "      <td>0.054918</td>\n",
              "      <td>-0.037966</td>\n",
              "      <td>0.116572</td>\n",
              "      <td>-0.041014</td>\n",
              "      <td>0.010080</td>\n",
              "      <td>0.056860</td>\n",
              "      <td>-0.009957</td>\n",
              "      <td>-0.029917</td>\n",
              "      <td>-0.021882</td>\n",
              "      <td>-0.032330</td>\n",
              "      <td>0.044501</td>\n",
              "      <td>0.027824</td>\n",
              "      <td>0.043845</td>\n",
              "      <td>0.058566</td>\n",
              "      <td>0.008683</td>\n",
              "      <td>0.039492</td>\n",
              "      <td>0.003059</td>\n",
              "      <td>0.014052</td>\n",
              "      <td>0.077554</td>\n",
              "      <td>-0.032994</td>\n",
              "      <td>1.000000</td>\n",
              "      <td>0.079217</td>\n",
              "      <td>0.030029</td>\n",
              "      <td>-0.030238</td>\n",
              "      <td>0.045747</td>\n",
              "      <td>0.033431</td>\n",
              "      <td>0.018854</td>\n",
              "      <td>0.061784</td>\n",
              "      <td>-0.079392</td>\n",
              "      <td>0.020238</td>\n",
              "      <td>-0.040121</td>\n",
              "    </tr>\n",
              "    <tr>\n",
              "      <th>garden_patio</th>\n",
              "      <td>0.096283</td>\n",
              "      <td>0.070760</td>\n",
              "      <td>-0.000589</td>\n",
              "      <td>-0.029846</td>\n",
              "      <td>0.103672</td>\n",
              "      <td>0.084056</td>\n",
              "      <td>0.006690</td>\n",
              "      <td>0.161751</td>\n",
              "      <td>0.009229</td>\n",
              "      <td>0.075956</td>\n",
              "      <td>0.175388</td>\n",
              "      <td>0.101490</td>\n",
              "      <td>-0.032673</td>\n",
              "      <td>0.084319</td>\n",
              "      <td>-0.022076</td>\n",
              "      <td>0.159506</td>\n",
              "      <td>0.095689</td>\n",
              "      <td>0.360510</td>\n",
              "      <td>0.231961</td>\n",
              "      <td>0.069316</td>\n",
              "      <td>0.312097</td>\n",
              "      <td>0.074755</td>\n",
              "      <td>0.061440</td>\n",
              "      <td>0.412350</td>\n",
              "      <td>-0.030622</td>\n",
              "      <td>0.079217</td>\n",
              "      <td>1.000000</td>\n",
              "      <td>0.017310</td>\n",
              "      <td>-0.026623</td>\n",
              "      <td>0.346041</td>\n",
              "      <td>0.023500</td>\n",
              "      <td>0.101485</td>\n",
              "      <td>0.350827</td>\n",
              "      <td>0.087594</td>\n",
              "      <td>0.029311</td>\n",
              "      <td>0.008085</td>\n",
              "    </tr>\n",
              "    <tr>\n",
              "      <th>wheelchair_access</th>\n",
              "      <td>0.066940</td>\n",
              "      <td>0.012306</td>\n",
              "      <td>-0.068330</td>\n",
              "      <td>-0.063635</td>\n",
              "      <td>0.072517</td>\n",
              "      <td>0.155396</td>\n",
              "      <td>0.039656</td>\n",
              "      <td>0.124829</td>\n",
              "      <td>0.048123</td>\n",
              "      <td>0.168161</td>\n",
              "      <td>0.137787</td>\n",
              "      <td>0.122778</td>\n",
              "      <td>-0.028224</td>\n",
              "      <td>0.227019</td>\n",
              "      <td>0.017245</td>\n",
              "      <td>0.126700</td>\n",
              "      <td>0.329260</td>\n",
              "      <td>0.076578</td>\n",
              "      <td>0.099186</td>\n",
              "      <td>0.400255</td>\n",
              "      <td>0.036246</td>\n",
              "      <td>0.198217</td>\n",
              "      <td>0.339891</td>\n",
              "      <td>0.047141</td>\n",
              "      <td>-0.034355</td>\n",
              "      <td>0.030029</td>\n",
              "      <td>0.017310</td>\n",
              "      <td>1.000000</td>\n",
              "      <td>-0.017225</td>\n",
              "      <td>0.231504</td>\n",
              "      <td>0.674647</td>\n",
              "      <td>0.116195</td>\n",
              "      <td>0.278275</td>\n",
              "      <td>0.031979</td>\n",
              "      <td>0.011676</td>\n",
              "      <td>0.044585</td>\n",
              "    </tr>\n",
              "    <tr>\n",
              "      <th>common_outdoor_space</th>\n",
              "      <td>-0.003403</td>\n",
              "      <td>0.003234</td>\n",
              "      <td>-0.117199</td>\n",
              "      <td>-0.102955</td>\n",
              "      <td>0.011517</td>\n",
              "      <td>0.114882</td>\n",
              "      <td>0.104496</td>\n",
              "      <td>-0.120489</td>\n",
              "      <td>0.106071</td>\n",
              "      <td>0.126708</td>\n",
              "      <td>-0.086532</td>\n",
              "      <td>0.030246</td>\n",
              "      <td>0.595203</td>\n",
              "      <td>0.196382</td>\n",
              "      <td>-0.066845</td>\n",
              "      <td>-0.061032</td>\n",
              "      <td>-0.016265</td>\n",
              "      <td>0.409598</td>\n",
              "      <td>-0.042076</td>\n",
              "      <td>-0.016673</td>\n",
              "      <td>-0.026593</td>\n",
              "      <td>-0.014992</td>\n",
              "      <td>-0.021081</td>\n",
              "      <td>-0.026358</td>\n",
              "      <td>0.033071</td>\n",
              "      <td>-0.030238</td>\n",
              "      <td>-0.026623</td>\n",
              "      <td>-0.017225</td>\n",
              "      <td>1.000000</td>\n",
              "      <td>0.280746</td>\n",
              "      <td>-0.016227</td>\n",
              "      <td>0.039357</td>\n",
              "      <td>0.142678</td>\n",
              "      <td>0.001400</td>\n",
              "      <td>0.029864</td>\n",
              "      <td>0.106974</td>\n",
              "    </tr>\n",
              "    <tr>\n",
              "      <th>All Outdoor Areas</th>\n",
              "      <td>0.162202</td>\n",
              "      <td>0.114414</td>\n",
              "      <td>-0.095882</td>\n",
              "      <td>-0.175481</td>\n",
              "      <td>0.189714</td>\n",
              "      <td>0.365357</td>\n",
              "      <td>0.046039</td>\n",
              "      <td>0.302021</td>\n",
              "      <td>0.053924</td>\n",
              "      <td>0.392933</td>\n",
              "      <td>0.358660</td>\n",
              "      <td>0.300902</td>\n",
              "      <td>0.144808</td>\n",
              "      <td>0.449791</td>\n",
              "      <td>-0.026617</td>\n",
              "      <td>0.253138</td>\n",
              "      <td>0.669139</td>\n",
              "      <td>0.685417</td>\n",
              "      <td>0.265740</td>\n",
              "      <td>0.375472</td>\n",
              "      <td>0.433878</td>\n",
              "      <td>0.244201</td>\n",
              "      <td>0.262213</td>\n",
              "      <td>0.376364</td>\n",
              "      <td>-0.044027</td>\n",
              "      <td>0.045747</td>\n",
              "      <td>0.346041</td>\n",
              "      <td>0.231504</td>\n",
              "      <td>0.280746</td>\n",
              "      <td>1.000000</td>\n",
              "      <td>0.161801</td>\n",
              "      <td>0.269680</td>\n",
              "      <td>0.713231</td>\n",
              "      <td>0.143808</td>\n",
              "      <td>0.050633</td>\n",
              "      <td>0.050775</td>\n",
              "    </tr>\n",
              "    <tr>\n",
              "      <th>Handicapped Friendly</th>\n",
              "      <td>0.080678</td>\n",
              "      <td>0.013825</td>\n",
              "      <td>-0.041558</td>\n",
              "      <td>-0.029845</td>\n",
              "      <td>0.092276</td>\n",
              "      <td>0.107388</td>\n",
              "      <td>0.023675</td>\n",
              "      <td>0.106470</td>\n",
              "      <td>0.030739</td>\n",
              "      <td>0.116070</td>\n",
              "      <td>0.121293</td>\n",
              "      <td>0.097858</td>\n",
              "      <td>-0.024994</td>\n",
              "      <td>0.158519</td>\n",
              "      <td>0.012296</td>\n",
              "      <td>0.244288</td>\n",
              "      <td>0.231577</td>\n",
              "      <td>0.080925</td>\n",
              "      <td>0.119134</td>\n",
              "      <td>0.286965</td>\n",
              "      <td>0.032290</td>\n",
              "      <td>0.148981</td>\n",
              "      <td>0.305025</td>\n",
              "      <td>0.052225</td>\n",
              "      <td>-0.022206</td>\n",
              "      <td>0.033431</td>\n",
              "      <td>0.023500</td>\n",
              "      <td>0.674647</td>\n",
              "      <td>-0.016227</td>\n",
              "      <td>0.161801</td>\n",
              "      <td>1.000000</td>\n",
              "      <td>0.112042</td>\n",
              "      <td>0.239600</td>\n",
              "      <td>0.037754</td>\n",
              "      <td>-0.009296</td>\n",
              "      <td>0.027636</td>\n",
              "    </tr>\n",
              "    <tr>\n",
              "      <th>Decription Word #</th>\n",
              "      <td>0.136763</td>\n",
              "      <td>0.099223</td>\n",
              "      <td>-0.039736</td>\n",
              "      <td>-0.095826</td>\n",
              "      <td>0.157691</td>\n",
              "      <td>0.225435</td>\n",
              "      <td>0.043902</td>\n",
              "      <td>0.250248</td>\n",
              "      <td>0.056194</td>\n",
              "      <td>0.258141</td>\n",
              "      <td>0.301407</td>\n",
              "      <td>0.289333</td>\n",
              "      <td>0.005093</td>\n",
              "      <td>0.256185</td>\n",
              "      <td>0.006565</td>\n",
              "      <td>0.247983</td>\n",
              "      <td>0.219958</td>\n",
              "      <td>0.195110</td>\n",
              "      <td>0.167380</td>\n",
              "      <td>0.204237</td>\n",
              "      <td>0.127384</td>\n",
              "      <td>0.142568</td>\n",
              "      <td>0.200900</td>\n",
              "      <td>0.120152</td>\n",
              "      <td>0.065309</td>\n",
              "      <td>0.018854</td>\n",
              "      <td>0.101485</td>\n",
              "      <td>0.116195</td>\n",
              "      <td>0.039357</td>\n",
              "      <td>0.269680</td>\n",
              "      <td>0.112042</td>\n",
              "      <td>1.000000</td>\n",
              "      <td>0.373229</td>\n",
              "      <td>0.123418</td>\n",
              "      <td>0.044004</td>\n",
              "      <td>0.050855</td>\n",
              "    </tr>\n",
              "    <tr>\n",
              "      <th>Amenities</th>\n",
              "      <td>0.270375</td>\n",
              "      <td>0.132823</td>\n",
              "      <td>-0.057805</td>\n",
              "      <td>-0.249191</td>\n",
              "      <td>0.345543</td>\n",
              "      <td>0.645122</td>\n",
              "      <td>0.057880</td>\n",
              "      <td>0.484844</td>\n",
              "      <td>0.066691</td>\n",
              "      <td>0.686030</td>\n",
              "      <td>0.642950</td>\n",
              "      <td>0.428483</td>\n",
              "      <td>0.067561</td>\n",
              "      <td>0.666506</td>\n",
              "      <td>-0.042395</td>\n",
              "      <td>0.480366</td>\n",
              "      <td>0.586217</td>\n",
              "      <td>0.533669</td>\n",
              "      <td>0.568581</td>\n",
              "      <td>0.519108</td>\n",
              "      <td>0.433651</td>\n",
              "      <td>0.415058</td>\n",
              "      <td>0.363184</td>\n",
              "      <td>0.410686</td>\n",
              "      <td>-0.091750</td>\n",
              "      <td>0.061784</td>\n",
              "      <td>0.350827</td>\n",
              "      <td>0.278275</td>\n",
              "      <td>0.142678</td>\n",
              "      <td>0.713231</td>\n",
              "      <td>0.239600</td>\n",
              "      <td>0.373229</td>\n",
              "      <td>1.000000</td>\n",
              "      <td>0.194327</td>\n",
              "      <td>0.024621</td>\n",
              "      <td>0.063276</td>\n",
              "    </tr>\n",
              "    <tr>\n",
              "      <th># of Rooms</th>\n",
              "      <td>0.744468</td>\n",
              "      <td>0.958785</td>\n",
              "      <td>0.007209</td>\n",
              "      <td>0.036503</td>\n",
              "      <td>0.649097</td>\n",
              "      <td>0.024873</td>\n",
              "      <td>-0.001594</td>\n",
              "      <td>0.107922</td>\n",
              "      <td>0.000543</td>\n",
              "      <td>0.015150</td>\n",
              "      <td>0.176698</td>\n",
              "      <td>0.171002</td>\n",
              "      <td>0.002304</td>\n",
              "      <td>0.059796</td>\n",
              "      <td>-0.004296</td>\n",
              "      <td>0.188843</td>\n",
              "      <td>0.069698</td>\n",
              "      <td>0.146115</td>\n",
              "      <td>0.226236</td>\n",
              "      <td>0.077542</td>\n",
              "      <td>0.122349</td>\n",
              "      <td>0.064020</td>\n",
              "      <td>0.023006</td>\n",
              "      <td>0.124689</td>\n",
              "      <td>-0.012313</td>\n",
              "      <td>-0.079392</td>\n",
              "      <td>0.087594</td>\n",
              "      <td>0.031979</td>\n",
              "      <td>0.001400</td>\n",
              "      <td>0.143808</td>\n",
              "      <td>0.037754</td>\n",
              "      <td>0.123418</td>\n",
              "      <td>0.194327</td>\n",
              "      <td>1.000000</td>\n",
              "      <td>0.007831</td>\n",
              "      <td>-0.000536</td>\n",
              "    </tr>\n",
              "    <tr>\n",
              "      <th>Interest Level</th>\n",
              "      <td>-0.072246</td>\n",
              "      <td>0.040735</td>\n",
              "      <td>-0.046203</td>\n",
              "      <td>0.059222</td>\n",
              "      <td>-0.203596</td>\n",
              "      <td>-0.008542</td>\n",
              "      <td>-0.057777</td>\n",
              "      <td>0.118992</td>\n",
              "      <td>-0.064214</td>\n",
              "      <td>-0.078467</td>\n",
              "      <td>0.064014</td>\n",
              "      <td>0.139567</td>\n",
              "      <td>0.100112</td>\n",
              "      <td>-0.042343</td>\n",
              "      <td>-0.038278</td>\n",
              "      <td>0.015665</td>\n",
              "      <td>0.014348</td>\n",
              "      <td>0.071750</td>\n",
              "      <td>0.044167</td>\n",
              "      <td>0.041725</td>\n",
              "      <td>0.027028</td>\n",
              "      <td>-0.001108</td>\n",
              "      <td>0.015816</td>\n",
              "      <td>0.028811</td>\n",
              "      <td>0.016218</td>\n",
              "      <td>0.020238</td>\n",
              "      <td>0.029311</td>\n",
              "      <td>0.011676</td>\n",
              "      <td>0.029864</td>\n",
              "      <td>0.050633</td>\n",
              "      <td>-0.009296</td>\n",
              "      <td>0.044004</td>\n",
              "      <td>0.024621</td>\n",
              "      <td>0.007831</td>\n",
              "      <td>1.000000</td>\n",
              "      <td>-0.061968</td>\n",
              "    </tr>\n",
              "    <tr>\n",
              "      <th>Pets Allowed</th>\n",
              "      <td>0.023373</td>\n",
              "      <td>-0.010631</td>\n",
              "      <td>-0.030868</td>\n",
              "      <td>-0.065423</td>\n",
              "      <td>0.056815</td>\n",
              "      <td>0.034636</td>\n",
              "      <td>0.984259</td>\n",
              "      <td>-0.184558</td>\n",
              "      <td>0.984113</td>\n",
              "      <td>0.093426</td>\n",
              "      <td>-0.046601</td>\n",
              "      <td>-0.018032</td>\n",
              "      <td>0.100951</td>\n",
              "      <td>0.131274</td>\n",
              "      <td>0.050347</td>\n",
              "      <td>-0.003223</td>\n",
              "      <td>0.031335</td>\n",
              "      <td>0.068366</td>\n",
              "      <td>-0.019596</td>\n",
              "      <td>0.084922</td>\n",
              "      <td>0.022578</td>\n",
              "      <td>0.009845</td>\n",
              "      <td>0.049958</td>\n",
              "      <td>0.005778</td>\n",
              "      <td>0.032586</td>\n",
              "      <td>-0.040121</td>\n",
              "      <td>0.008085</td>\n",
              "      <td>0.044585</td>\n",
              "      <td>0.106974</td>\n",
              "      <td>0.050775</td>\n",
              "      <td>0.027636</td>\n",
              "      <td>0.050855</td>\n",
              "      <td>0.063276</td>\n",
              "      <td>-0.000536</td>\n",
              "      <td>-0.061968</td>\n",
              "      <td>1.000000</td>\n",
              "    </tr>\n",
              "  </tbody>\n",
              "</table>\n",
              "</div>"
            ],
            "text/plain": [
              "                      bathrooms  bedrooms  ...  Interest Level  Pets Allowed\n",
              "bathrooms              1.000000  0.524082  ...       -0.072246      0.023373\n",
              "bedrooms               0.524082  1.000000  ...        0.040735     -0.010631\n",
              "latitude               0.013407  0.003490  ...       -0.046203     -0.030868\n",
              "longitude             -0.020099  0.055117  ...        0.059222     -0.065423\n",
              "price                  0.687296  0.535503  ...       -0.203596      0.056815\n",
              "elevator               0.132882 -0.024821  ...       -0.008542      0.034636\n",
              "cats_allowed           0.021475 -0.011173  ...       -0.057777      0.984259\n",
              "hardwood_floors        0.096922  0.096420  ...        0.118992     -0.184558\n",
              "dogs_allowed           0.024539 -0.009750  ...       -0.064214      0.984113\n",
              "doorman                0.157173 -0.047562  ...       -0.078467      0.093426\n",
              "dishwasher             0.172230  0.152102  ...        0.064014     -0.046601\n",
              "no_fee                 0.129547  0.163000  ...        0.139567     -0.018032\n",
              "laundry_in_building   -0.013202  0.008558  ...        0.100112      0.100951\n",
              "fitness_center         0.148334  0.013150  ...       -0.042343      0.131274\n",
              "pre-war               -0.016214  0.001420  ...       -0.038278      0.050347\n",
              "laundry_in_unit        0.209366  0.151790  ...        0.015665     -0.003223\n",
              "roof_deck              0.102113  0.045451  ...        0.014348      0.031335\n",
              "outdoor_space          0.144450  0.124912  ...        0.071750      0.068366\n",
              "dining_room            0.233038  0.189415  ...        0.044167     -0.019596\n",
              "high_speed_internet    0.089073  0.061006  ...        0.041725      0.084922\n",
              "balcony                0.136990  0.097772  ...        0.027028      0.022578\n",
              "swimming_pool          0.113315  0.033441  ...       -0.001108      0.009845\n",
              "new_construction       0.066826  0.000907  ...        0.015816      0.049958\n",
              "terrace                0.140767  0.099149  ...        0.028811      0.005778\n",
              "exclusive             -0.001944 -0.014880  ...        0.016218      0.032586\n",
              "loft                   0.014260 -0.107341  ...        0.020238     -0.040121\n",
              "garden_patio           0.096283  0.070760  ...        0.029311      0.008085\n",
              "wheelchair_access      0.066940  0.012306  ...        0.011676      0.044585\n",
              "common_outdoor_space  -0.003403  0.003234  ...        0.029864      0.106974\n",
              "All Outdoor Areas      0.162202  0.114414  ...        0.050633      0.050775\n",
              "Handicapped Friendly   0.080678  0.013825  ...       -0.009296      0.027636\n",
              "Decription Word #      0.136763  0.099223  ...        0.044004      0.050855\n",
              "Amenities              0.270375  0.132823  ...        0.024621      0.063276\n",
              "# of Rooms             0.744468  0.958785  ...        0.007831     -0.000536\n",
              "Interest Level        -0.072246  0.040735  ...        1.000000     -0.061968\n",
              "Pets Allowed           0.023373 -0.010631  ...       -0.061968      1.000000\n",
              "\n",
              "[36 rows x 36 columns]"
            ]
          },
          "metadata": {
            "tags": []
          },
          "execution_count": 180
        }
      ]
    },
    {
      "cell_type": "markdown",
      "metadata": {
        "id": "7UlCNnI9vrqx"
      },
      "source": [
        "##Train/Test Split \n",
        "* Train - April/May 2016\n",
        "* Test - June 2016"
      ]
    },
    {
      "cell_type": "code",
      "metadata": {
        "id": "pmJqbS-303Vf"
      },
      "source": [
        "import datetime"
      ],
      "execution_count": null,
      "outputs": []
    },
    {
      "cell_type": "code",
      "metadata": {
        "colab": {
          "base_uri": "https://localhost:8080/",
          "height": 267
        },
        "id": "q-NfmGiay5KW",
        "outputId": "3e7b4d77-2fb9-418d-f619-4bf4f3a5aa6b"
      },
      "source": [
        "df['year_month created'] = pd.to_datetime(df['created']).dt.to_period('M')\n",
        "df.head(2)"
      ],
      "execution_count": null,
      "outputs": [
        {
          "output_type": "execute_result",
          "data": {
            "text/html": [
              "<div>\n",
              "<style scoped>\n",
              "    .dataframe tbody tr th:only-of-type {\n",
              "        vertical-align: middle;\n",
              "    }\n",
              "\n",
              "    .dataframe tbody tr th {\n",
              "        vertical-align: top;\n",
              "    }\n",
              "\n",
              "    .dataframe thead th {\n",
              "        text-align: right;\n",
              "    }\n",
              "</style>\n",
              "<table border=\"1\" class=\"dataframe\">\n",
              "  <thead>\n",
              "    <tr style=\"text-align: right;\">\n",
              "      <th></th>\n",
              "      <th>bathrooms</th>\n",
              "      <th>bedrooms</th>\n",
              "      <th>created</th>\n",
              "      <th>description</th>\n",
              "      <th>display_address</th>\n",
              "      <th>latitude</th>\n",
              "      <th>longitude</th>\n",
              "      <th>price</th>\n",
              "      <th>street_address</th>\n",
              "      <th>interest_level</th>\n",
              "      <th>elevator</th>\n",
              "      <th>cats_allowed</th>\n",
              "      <th>hardwood_floors</th>\n",
              "      <th>dogs_allowed</th>\n",
              "      <th>doorman</th>\n",
              "      <th>dishwasher</th>\n",
              "      <th>no_fee</th>\n",
              "      <th>laundry_in_building</th>\n",
              "      <th>fitness_center</th>\n",
              "      <th>pre-war</th>\n",
              "      <th>laundry_in_unit</th>\n",
              "      <th>roof_deck</th>\n",
              "      <th>outdoor_space</th>\n",
              "      <th>dining_room</th>\n",
              "      <th>high_speed_internet</th>\n",
              "      <th>balcony</th>\n",
              "      <th>swimming_pool</th>\n",
              "      <th>new_construction</th>\n",
              "      <th>terrace</th>\n",
              "      <th>exclusive</th>\n",
              "      <th>loft</th>\n",
              "      <th>garden_patio</th>\n",
              "      <th>wheelchair_access</th>\n",
              "      <th>common_outdoor_space</th>\n",
              "      <th>All Outdoor Areas</th>\n",
              "      <th>Handicapped Friendly</th>\n",
              "      <th>Decription Word #</th>\n",
              "      <th>Amenities</th>\n",
              "      <th># of Rooms</th>\n",
              "      <th>Interest Level</th>\n",
              "      <th>Pets Allowed</th>\n",
              "      <th>year_month created</th>\n",
              "    </tr>\n",
              "  </thead>\n",
              "  <tbody>\n",
              "    <tr>\n",
              "      <th>0</th>\n",
              "      <td>1.5</td>\n",
              "      <td>3</td>\n",
              "      <td>2016-06-24 07:54:24</td>\n",
              "      <td>A Brand New 3 Bedroom 1.5 bath ApartmentEnjoy ...</td>\n",
              "      <td>Metropolitan Avenue</td>\n",
              "      <td>40.7145</td>\n",
              "      <td>-73.9425</td>\n",
              "      <td>3000</td>\n",
              "      <td>792 Metropolitan Avenue</td>\n",
              "      <td>medium</td>\n",
              "      <td>0</td>\n",
              "      <td>0</td>\n",
              "      <td>0</td>\n",
              "      <td>0</td>\n",
              "      <td>0</td>\n",
              "      <td>0</td>\n",
              "      <td>0</td>\n",
              "      <td>0</td>\n",
              "      <td>0</td>\n",
              "      <td>0</td>\n",
              "      <td>0</td>\n",
              "      <td>0</td>\n",
              "      <td>0</td>\n",
              "      <td>0</td>\n",
              "      <td>0</td>\n",
              "      <td>0</td>\n",
              "      <td>0</td>\n",
              "      <td>0</td>\n",
              "      <td>0</td>\n",
              "      <td>0</td>\n",
              "      <td>0</td>\n",
              "      <td>0</td>\n",
              "      <td>0</td>\n",
              "      <td>0</td>\n",
              "      <td>0</td>\n",
              "      <td>0</td>\n",
              "      <td>93.0</td>\n",
              "      <td>0</td>\n",
              "      <td>4.5</td>\n",
              "      <td>1</td>\n",
              "      <td>0</td>\n",
              "      <td>2016-06</td>\n",
              "    </tr>\n",
              "    <tr>\n",
              "      <th>1</th>\n",
              "      <td>1.0</td>\n",
              "      <td>2</td>\n",
              "      <td>2016-06-12 12:19:27</td>\n",
              "      <td></td>\n",
              "      <td>Columbus Avenue</td>\n",
              "      <td>40.7947</td>\n",
              "      <td>-73.9667</td>\n",
              "      <td>5465</td>\n",
              "      <td>808 Columbus Avenue</td>\n",
              "      <td>low</td>\n",
              "      <td>1</td>\n",
              "      <td>1</td>\n",
              "      <td>0</td>\n",
              "      <td>1</td>\n",
              "      <td>1</td>\n",
              "      <td>0</td>\n",
              "      <td>0</td>\n",
              "      <td>0</td>\n",
              "      <td>1</td>\n",
              "      <td>0</td>\n",
              "      <td>0</td>\n",
              "      <td>0</td>\n",
              "      <td>0</td>\n",
              "      <td>0</td>\n",
              "      <td>0</td>\n",
              "      <td>0</td>\n",
              "      <td>0</td>\n",
              "      <td>0</td>\n",
              "      <td>0</td>\n",
              "      <td>0</td>\n",
              "      <td>0</td>\n",
              "      <td>0</td>\n",
              "      <td>0</td>\n",
              "      <td>0</td>\n",
              "      <td>0</td>\n",
              "      <td>0</td>\n",
              "      <td>0.0</td>\n",
              "      <td>3</td>\n",
              "      <td>3.0</td>\n",
              "      <td>0</td>\n",
              "      <td>2</td>\n",
              "      <td>2016-06</td>\n",
              "    </tr>\n",
              "  </tbody>\n",
              "</table>\n",
              "</div>"
            ],
            "text/plain": [
              "   bathrooms  bedrooms  ... Pets Allowed year_month created\n",
              "0        1.5         3  ...            0            2016-06\n",
              "1        1.0         2  ...            2            2016-06\n",
              "\n",
              "[2 rows x 42 columns]"
            ]
          },
          "metadata": {
            "tags": []
          },
          "execution_count": 182
        }
      ]
    },
    {
      "cell_type": "code",
      "metadata": {
        "id": "5UoleZj8wCki"
      },
      "source": [
        "train = df[df['year_month created'] < '2016-6']\n",
        "test = df[df['year_month created'] >= '2016-6']"
      ],
      "execution_count": null,
      "outputs": []
    },
    {
      "cell_type": "markdown",
      "metadata": {
        "id": "PWOMnTm1BVlx"
      },
      "source": [
        "##Linear Regression with 2 features"
      ]
    },
    {
      "cell_type": "code",
      "metadata": {
        "id": "VsTKZuqNFyDK"
      },
      "source": [
        "from sklearn.linear_model import LinearRegression\n",
        "from sklearn.metrics import mean_absolute_error\n",
        "import plotly.express as px"
      ],
      "execution_count": null,
      "outputs": []
    },
    {
      "cell_type": "code",
      "metadata": {
        "id": "FZx6WE6v-0kW"
      },
      "source": [
        "model = LinearRegression()"
      ],
      "execution_count": null,
      "outputs": []
    },
    {
      "cell_type": "code",
      "metadata": {
        "id": "C4Za9VOgHskv"
      },
      "source": [
        "features = ['Handicapped Friendly', 'bedrooms']\n",
        "target = ['price']"
      ],
      "execution_count": null,
      "outputs": []
    },
    {
      "cell_type": "markdown",
      "metadata": {
        "id": "GwKvUENoGwKn"
      },
      "source": [
        "###Baseline"
      ]
    },
    {
      "cell_type": "code",
      "metadata": {
        "colab": {
          "base_uri": "https://localhost:8080/"
        },
        "id": "LPPND1JAHheR",
        "outputId": "43657e42-2127-4a2d-eef0-e5e00c8fccc1"
      },
      "source": [
        "y_train = train[target]\n",
        "y_test = test[target]\n",
        "\n",
        "guess = y_train.mean()\n",
        "print('Mean Baseline w/ 0 features:', guess)"
      ],
      "execution_count": null,
      "outputs": [
        {
          "output_type": "stream",
          "text": [
            "Mean Baseline w/ 0 features: price    3575.604007\n",
            "dtype: float64\n"
          ],
          "name": "stdout"
        }
      ]
    },
    {
      "cell_type": "code",
      "metadata": {
        "colab": {
          "base_uri": "https://localhost:8080/"
        },
        "id": "tDMiffK_IG8t",
        "outputId": "811dc01d-2fd5-4bca-eb7f-f86fdce22299"
      },
      "source": [
        "#Training and Testing Errors\n",
        "\n",
        "y_pred1 = [guess] * len(y_train)\n",
        "train_mae = mean_absolute_error(y_train, y_pred1)\n",
        "print(f'Training Error (NYC Apartment Prices): {train_mae:.2f} percent')\n",
        "\n",
        "y_pred2 = [guess] * len(y_test)\n",
        "test_mae = mean_absolute_error(y_test, y_pred2)\n",
        "print(f'Testing Error (NYC Apartment Prices: {test_mae:.2f} percent')\n"
      ],
      "execution_count": null,
      "outputs": [
        {
          "output_type": "stream",
          "text": [
            "Training Error (NYC Apartment Prices): 1201.88 percent\n",
            "Testing Error (NYC Apartment Prices: 1197.71 percent\n"
          ],
          "name": "stdout"
        }
      ]
    },
    {
      "cell_type": "markdown",
      "metadata": {
        "id": "D1_HypfnGynA"
      },
      "source": [
        "###Linear Regression #1"
      ]
    },
    {
      "cell_type": "code",
      "metadata": {
        "colab": {
          "base_uri": "https://localhost:8080/"
        },
        "id": "qnWJWqWABZN0",
        "outputId": "b08d2ccb-c2d2-4556-8197-196ac044b411"
      },
      "source": [
        "X_train = train[features]\n",
        "X_test = test[features]\n",
        "\n",
        "print(f'Linear Regression, dependent on: {features}')"
      ],
      "execution_count": null,
      "outputs": [
        {
          "output_type": "stream",
          "text": [
            "Linear Regression, dependent on: ['Handicapped Friendly', 'bedrooms']\n"
          ],
          "name": "stdout"
        }
      ]
    },
    {
      "cell_type": "code",
      "metadata": {
        "colab": {
          "base_uri": "https://localhost:8080/"
        },
        "id": "puBl8p9p9eKv",
        "outputId": "2289ae1f-20dc-4ad3-8f16-25a1913f00f7"
      },
      "source": [
        "model.fit(X_train, y_train)"
      ],
      "execution_count": null,
      "outputs": [
        {
          "output_type": "execute_result",
          "data": {
            "text/plain": [
              "LinearRegression(copy_X=True, fit_intercept=True, n_jobs=None, normalize=False)"
            ]
          },
          "metadata": {
            "tags": []
          },
          "execution_count": 190
        }
      ]
    },
    {
      "cell_type": "code",
      "metadata": {
        "id": "pSM0DPWD-7v6"
      },
      "source": [
        "y_pred_train = model.predict(X_train)"
      ],
      "execution_count": null,
      "outputs": []
    },
    {
      "cell_type": "code",
      "metadata": {
        "colab": {
          "base_uri": "https://localhost:8080/"
        },
        "id": "b29c2UQ7_ODQ",
        "outputId": "ccfca43e-f8d1-490b-e913-8e20b6af59f7"
      },
      "source": [
        "mae_train = mean_absolute_error(y_train, y_pred_train)\n",
        "print(f'Train Error (NYC Apartment Prices): {mae_train:.2f} percent')"
      ],
      "execution_count": null,
      "outputs": [
        {
          "output_type": "stream",
          "text": [
            "Train Error (NYC Apartment Prices): 968.17 percent\n"
          ],
          "name": "stdout"
        }
      ]
    },
    {
      "cell_type": "code",
      "metadata": {
        "colab": {
          "base_uri": "https://localhost:8080/"
        },
        "id": "lzA6wgKx_kuU",
        "outputId": "2efa2c20-ad19-4962-c4e9-89250074a775"
      },
      "source": [
        "y_pred_test = model.predict(X_test)\n",
        "mae_test = mean_absolute_error(y_test, y_pred_test)\n",
        "print(f'Test Error (NYC Apartment Prices: {mae_test:.2f} percent')"
      ],
      "execution_count": null,
      "outputs": [
        {
          "output_type": "stream",
          "text": [
            "Test Error (NYC Apartment Prices: 986.20 percent\n"
          ],
          "name": "stdout"
        }
      ]
    },
    {
      "cell_type": "markdown",
      "metadata": {
        "id": "0PC2_58IBg6x"
      },
      "source": [
        "####Model's coefficients and intercept.\n"
      ]
    },
    {
      "cell_type": "code",
      "metadata": {
        "colab": {
          "base_uri": "https://localhost:8080/"
        },
        "id": "23F5p1qyBz7w",
        "outputId": "ac1b544c-69bf-40e9-dfab-f288e307ef07"
      },
      "source": [
        "model.coef_"
      ],
      "execution_count": null,
      "outputs": [
        {
          "output_type": "execute_result",
          "data": {
            "text/plain": [
              "array([[1306.60288328,  854.01119936]])"
            ]
          },
          "metadata": {
            "tags": []
          },
          "execution_count": 194
        }
      ]
    },
    {
      "cell_type": "code",
      "metadata": {
        "colab": {
          "base_uri": "https://localhost:8080/"
        },
        "id": "dbvIIlz-BNrb",
        "outputId": "fca99e59-3aef-4106-ea26-89e1dc5e1614"
      },
      "source": [
        "model.intercept_"
      ],
      "execution_count": null,
      "outputs": [
        {
          "output_type": "execute_result",
          "data": {
            "text/plain": [
              "array([2253.71128525])"
            ]
          },
          "metadata": {
            "tags": []
          },
          "execution_count": 195
        }
      ]
    },
    {
      "cell_type": "markdown",
      "metadata": {
        "id": "WS0t5pFMSTLH"
      },
      "source": [
        "###Linear Regression #2"
      ]
    },
    {
      "cell_type": "code",
      "metadata": {
        "colab": {
          "base_uri": "https://localhost:8080/"
        },
        "id": "qrRXWb6uYaxJ",
        "outputId": "8a21ece5-e44a-40e8-d8a3-95fd4e7801c4"
      },
      "source": [
        "df.columns"
      ],
      "execution_count": null,
      "outputs": [
        {
          "output_type": "execute_result",
          "data": {
            "text/plain": [
              "Index(['bathrooms', 'bedrooms', 'created', 'description', 'display_address',\n",
              "       'latitude', 'longitude', 'price', 'street_address', 'interest_level',\n",
              "       'elevator', 'cats_allowed', 'hardwood_floors', 'dogs_allowed',\n",
              "       'doorman', 'dishwasher', 'no_fee', 'laundry_in_building',\n",
              "       'fitness_center', 'pre-war', 'laundry_in_unit', 'roof_deck',\n",
              "       'outdoor_space', 'dining_room', 'high_speed_internet', 'balcony',\n",
              "       'swimming_pool', 'new_construction', 'terrace', 'exclusive', 'loft',\n",
              "       'garden_patio', 'wheelchair_access', 'common_outdoor_space',\n",
              "       'All Outdoor Areas', 'Handicapped Friendly', 'Decription Word #',\n",
              "       'Amenities', '# of Rooms', 'Interest Level', 'Pets Allowed',\n",
              "       'year_month created'],\n",
              "      dtype='object')"
            ]
          },
          "metadata": {
            "tags": []
          },
          "execution_count": 196
        }
      ]
    },
    {
      "cell_type": "code",
      "metadata": {
        "id": "Q_LUJiDuSOed"
      },
      "source": [
        "features2 = ['Handicapped Friendly', 'Amenities', '# of Rooms', 'Pets Allowed']"
      ],
      "execution_count": null,
      "outputs": []
    },
    {
      "cell_type": "code",
      "metadata": {
        "colab": {
          "base_uri": "https://localhost:8080/"
        },
        "id": "wpSPl7eZYoqY",
        "outputId": "bc87f66a-c8ea-43ae-ddd5-37a6cec66510"
      },
      "source": [
        "X_train2 = train[features2]\n",
        "X_test2 = test[features2]\n",
        "\n",
        "print(f'Linear Regression, dependent on: {features2}')\n",
        "print()\n",
        "model.fit(X_train2, y_train)"
      ],
      "execution_count": null,
      "outputs": [
        {
          "output_type": "stream",
          "text": [
            "Linear Regression, dependent on: ['Handicapped Friendly', 'Amenities', '# of Rooms', 'Pets Allowed']\n",
            "\n"
          ],
          "name": "stdout"
        },
        {
          "output_type": "execute_result",
          "data": {
            "text/plain": [
              "LinearRegression(copy_X=True, fit_intercept=True, n_jobs=None, normalize=False)"
            ]
          },
          "metadata": {
            "tags": []
          },
          "execution_count": 198
        }
      ]
    },
    {
      "cell_type": "code",
      "metadata": {
        "colab": {
          "base_uri": "https://localhost:8080/"
        },
        "id": "9ZFyJAicZAWI",
        "outputId": "2af46d65-8a54-421a-a8e7-2974c368f1be"
      },
      "source": [
        "y_pred_train2 = model.predict(X_train2)\n",
        "train2_mae = mean_absolute_error(y_train, y_pred_train2)\n",
        "print(f'Train MAE: {train2_mae:.2f} percent')\n",
        "\n",
        "y_pred_test2 = model.predict(X_test2)\n",
        "test2_mae = mean_absolute_error(y_test, y_pred_test2)\n",
        "print(f'Test MAE: {test2_mae:.2f} percent')"
      ],
      "execution_count": null,
      "outputs": [
        {
          "output_type": "stream",
          "text": [
            "Train MAE: 844.79 percent\n",
            "Test MAE: 852.52 percent\n"
          ],
          "name": "stdout"
        }
      ]
    },
    {
      "cell_type": "markdown",
      "metadata": {
        "id": "5g0QHPNsaI6Q"
      },
      "source": [
        "####Model Coefficients and Intercept"
      ]
    },
    {
      "cell_type": "code",
      "metadata": {
        "colab": {
          "base_uri": "https://localhost:8080/"
        },
        "id": "NFZzHuTBZAM6",
        "outputId": "b2cc1b79-2846-4f2a-df87-888a357e3239"
      },
      "source": [
        "model.coef_"
      ],
      "execution_count": null,
      "outputs": [
        {
          "output_type": "execute_result",
          "data": {
            "text/plain": [
              "array([[246.42631022, 141.65761776, 756.36913277,  70.74425523]])"
            ]
          },
          "metadata": {
            "tags": []
          },
          "execution_count": 200
        }
      ]
    },
    {
      "cell_type": "code",
      "metadata": {
        "colab": {
          "base_uri": "https://localhost:8080/"
        },
        "id": "M84h4hRoaSOR",
        "outputId": "e9c8063a-a00d-4570-cd9d-5da0dc7117df"
      },
      "source": [
        "model.intercept_"
      ],
      "execution_count": null,
      "outputs": [
        {
          "output_type": "execute_result",
          "data": {
            "text/plain": [
              "array([1068.03772832])"
            ]
          },
          "metadata": {
            "tags": []
          },
          "execution_count": 201
        }
      ]
    },
    {
      "cell_type": "markdown",
      "metadata": {
        "id": "hmMOoqQxbMg4"
      },
      "source": [
        "###Linear Regression #3"
      ]
    },
    {
      "cell_type": "code",
      "metadata": {
        "id": "iNoONUn1bXaY"
      },
      "source": [
        "features3 = ['# of Rooms', 'Amenities']"
      ],
      "execution_count": null,
      "outputs": []
    },
    {
      "cell_type": "code",
      "metadata": {
        "colab": {
          "base_uri": "https://localhost:8080/"
        },
        "id": "RxLtRXMabXWB",
        "outputId": "6d07a650-b6d0-447e-cb1b-de9ccf2c4f00"
      },
      "source": [
        "X_train3 = train[features3]\n",
        "X_test3 = test[features3]\n",
        "print(f'Linear Regression, dependent on: {features3}')\n",
        "print()\n",
        "\n",
        "model.fit(X_train3, y_train)"
      ],
      "execution_count": null,
      "outputs": [
        {
          "output_type": "stream",
          "text": [
            "Linear Regression, dependent on: ['# of Rooms', 'Amenities']\n",
            "\n"
          ],
          "name": "stdout"
        },
        {
          "output_type": "execute_result",
          "data": {
            "text/plain": [
              "LinearRegression(copy_X=True, fit_intercept=True, n_jobs=None, normalize=False)"
            ]
          },
          "metadata": {
            "tags": []
          },
          "execution_count": 203
        }
      ]
    },
    {
      "cell_type": "code",
      "metadata": {
        "colab": {
          "base_uri": "https://localhost:8080/"
        },
        "id": "aqfAyzpebXSJ",
        "outputId": "a45985d1-67c0-468f-cfe3-8766f8f5a57b"
      },
      "source": [
        "y_pred_train3 = model.predict(X_train3)\n",
        "train3_mae = mean_absolute_error(y_train, y_pred_train3)\n",
        "print(f'Train MAE: {train3_mae:.2f} percent')\n",
        "\n",
        "y_pred_test3 = model.predict(X_test3)\n",
        "test3_mae = mean_absolute_error(y_test, y_pred_test3)\n",
        "print(f'Test MAE: {test3_mae:2f} percent')"
      ],
      "execution_count": null,
      "outputs": [
        {
          "output_type": "stream",
          "text": [
            "Train MAE: 847.29 percent\n",
            "Test MAE: 855.386737 percent\n"
          ],
          "name": "stdout"
        }
      ]
    },
    {
      "cell_type": "markdown",
      "metadata": {
        "id": "x_fI0xXddNJg"
      },
      "source": [
        "####Model's coefficients and intercept"
      ]
    },
    {
      "cell_type": "code",
      "metadata": {
        "colab": {
          "base_uri": "https://localhost:8080/"
        },
        "id": "jIuVozsjbXKt",
        "outputId": "f1ca1478-9be4-4809-b230-3d5c869f92a7"
      },
      "source": [
        "model.coef_"
      ],
      "execution_count": null,
      "outputs": [
        {
          "output_type": "execute_result",
          "data": {
            "text/plain": [
              "array([[755.49056532, 146.07650175]])"
            ]
          },
          "metadata": {
            "tags": []
          },
          "execution_count": 212
        }
      ]
    },
    {
      "cell_type": "code",
      "metadata": {
        "colab": {
          "base_uri": "https://localhost:8080/"
        },
        "id": "4RMP68iEdT3S",
        "outputId": "70abf67f-c522-45b9-d713-a943d3bb0597"
      },
      "source": [
        "model.intercept_"
      ],
      "execution_count": null,
      "outputs": [
        {
          "output_type": "execute_result",
          "data": {
            "text/plain": [
              "array([1127.25192472])"
            ]
          },
          "metadata": {
            "tags": []
          },
          "execution_count": 214
        }
      ]
    },
    {
      "cell_type": "markdown",
      "metadata": {
        "id": "QqbWz18zBlt2"
      },
      "source": [
        "###Regression metrics RMSE, MAE, and $R^2$, for both the train and test data."
      ]
    },
    {
      "cell_type": "code",
      "metadata": {
        "id": "NMLO6eykDoDa"
      },
      "source": [
        "from sklearn.metrics import mean_absolute_error, mean_squared_error, r2_score"
      ],
      "execution_count": null,
      "outputs": []
    },
    {
      "cell_type": "markdown",
      "metadata": {
        "id": "WHWQJil_dX_-"
      },
      "source": [
        "####Train Regression Metrics:"
      ]
    },
    {
      "cell_type": "code",
      "metadata": {
        "colab": {
          "base_uri": "https://localhost:8080/"
        },
        "id": "p0DmyiefRF1s",
        "outputId": "f0a5aad7-5f76-4d2b-e9ee-3598d94b1d2a"
      },
      "source": [
        "mae_baseline = mean_absolute_error(y_train, y_pred1)\n",
        "mse_baseline = mean_squared_error(y_train, y_pred1)\n",
        "rmse_baseline = np.sqrt(mse)\n",
        "r2_baseline = r2_score(y_train, y_pred1)\n",
        "\n",
        "print('Baseline Training Regression Metrics:')\n",
        "print()\n",
        "print('Mean Square Error:', mse_baseline)\n",
        "print('Root Mean Squared Error:', rmse_baseline)\n",
        "print('Mean Absolute Error:', mae_baseline)\n",
        "print('R^2:', r2_baseline)"
      ],
      "execution_count": null,
      "outputs": [
        {
          "output_type": "stream",
          "text": [
            "Baseline Training Regression Metrics:\n",
            "\n",
            "Mean Square Error: 3105028.217891242\n",
            "Root Mean Squared Error: 1479.8022825598161\n",
            "Mean Absolute Error: 1201.8811133682555\n",
            "R^2: 0.0\n"
          ],
          "name": "stdout"
        }
      ]
    },
    {
      "cell_type": "code",
      "metadata": {
        "colab": {
          "base_uri": "https://localhost:8080/"
        },
        "id": "Hy7KdTi1B0Qq",
        "outputId": "9b34e966-dbf4-4fb5-eebb-e0c1a749d34d"
      },
      "source": [
        "mae_train = mean_absolute_error(y_train, y_pred_train)\n",
        "mse_train = mean_squared_error(y_train, y_pred_train)\n",
        "rmse_train = np.sqrt(mse_train)\n",
        "r2_train = r2_score(y_train, y_pred_train)\n",
        "\n",
        "print('Train Regression #1 Metrics:')\n",
        "print()\n",
        "print('Mean Square Error:', mse_train)\n",
        "print('Root Mean Squared Error:', rmse_train)\n",
        "print('Mean Absolute Error:', mae_train)\n",
        "print('R^2:', r2_train)\n"
      ],
      "execution_count": null,
      "outputs": [
        {
          "output_type": "stream",
          "text": [
            "Train Regression #1 Metrics:\n",
            "\n",
            "Mean Square Error: 2189814.7954692417\n",
            "Root Mean Squared Error: 1479.8022825598161\n",
            "Mean Absolute Error: 968.171571164732\n",
            "R^2: 0.2947520467442196\n"
          ],
          "name": "stdout"
        }
      ]
    },
    {
      "cell_type": "code",
      "metadata": {
        "colab": {
          "base_uri": "https://localhost:8080/"
        },
        "id": "Jd-hMz6VaVzJ",
        "outputId": "3d60176b-508b-42a5-adee-4f315b5c8fbf"
      },
      "source": [
        "mae_train2 = mean_absolute_error(y_train, y_pred_train2)\n",
        "mse_train2 = mean_squared_error(y_train, y_pred_train2)\n",
        "rmse_train2 = np.sqrt(mse_train2)\n",
        "r2_train2 = r2_score(y_train, y_pred_train2)\n",
        "\n",
        "print('Train Regression #2 Metrics:')\n",
        "print()\n",
        "print('Mean Square Error:', mse_train2)\n",
        "print('Root Mean Squared Error:', rmse_train2)\n",
        "print('Mean Absolute Error:', mae_train2)\n",
        "print('R^2:', r2_train2)"
      ],
      "execution_count": null,
      "outputs": [
        {
          "output_type": "stream",
          "text": [
            "Train Regression #2 Metrics:\n",
            "\n",
            "Mean Square Error: 1640674.0069810941\n",
            "Root Mean Squared Error: 1280.8879759686615\n",
            "Mean Absolute Error: 844.7909531799122\n",
            "R^2: 0.4716073762140086\n"
          ],
          "name": "stdout"
        }
      ]
    },
    {
      "cell_type": "code",
      "metadata": {
        "colab": {
          "base_uri": "https://localhost:8080/"
        },
        "id": "jM0xMPt3d06l",
        "outputId": "a69007da-8783-4484-c53c-4ac530d8e5df"
      },
      "source": [
        "mae_train3 = mean_absolute_error(y_train, y_pred_train3)\n",
        "mse_train3 = mean_squared_error(y_train, y_pred_train3)\n",
        "rmse_train3 = np.sqrt(mse_train3)\n",
        "r2_train3 = r2_score(y_train, y_pred_train3)\n",
        "\n",
        "print('Train Regression #3 Metrics:')\n",
        "print()\n",
        "print('Mean Square Error:', mse_train3)\n",
        "print('Root Mean Squared Error:', rmse_train3)\n",
        "print('Mean Absolute Error:', mae_train3)\n",
        "print('R^2:', r2_train3)"
      ],
      "execution_count": null,
      "outputs": [
        {
          "output_type": "stream",
          "text": [
            "Train Regression #3 Metrics:\n",
            "\n",
            "Mean Square Error: 1646222.674250671\n",
            "Root Mean Squared Error: 1283.0520933503328\n",
            "Mean Absolute Error: 847.2919089136145\n",
            "R^2: 0.46982038206123244\n"
          ],
          "name": "stdout"
        }
      ]
    },
    {
      "cell_type": "markdown",
      "metadata": {
        "id": "EQxpjv15dlKE"
      },
      "source": [
        "####Test Regression Metrics:"
      ]
    },
    {
      "cell_type": "code",
      "metadata": {
        "colab": {
          "base_uri": "https://localhost:8080/"
        },
        "id": "JucQKn3fR4G-",
        "outputId": "ee3b263b-eaf5-4f15-9653-778a2e0080e4"
      },
      "source": [
        "mae_base = mean_absolute_error(y_test, y_pred2)\n",
        "mse_base = mean_squared_error(y_test, y_pred2)\n",
        "rmse_base = np.sqrt(mse)\n",
        "r2_base = r2_score(y_test, y_pred2)\n",
        "\n",
        "print('Baseline Testing Regression Metrics:')\n",
        "print()\n",
        "print('Mean Square Error:', mse_base)\n",
        "print('Root Mean Squared Error:', rmse_base)\n",
        "print('Mean Absolute Error:', mae_base)\n",
        "print('R^2:', r2_base)"
      ],
      "execution_count": null,
      "outputs": [
        {
          "output_type": "stream",
          "text": [
            "Baseline Testing Regression Metrics:\n",
            "\n",
            "Mean Square Error: 3108152.385651076\n",
            "Root Mean Squared Error: 1479.8022825598161\n",
            "Mean Absolute Error: 1197.7088871089013\n",
            "R^2: -4.218690517676649e-05\n"
          ],
          "name": "stdout"
        }
      ]
    },
    {
      "cell_type": "code",
      "metadata": {
        "colab": {
          "base_uri": "https://localhost:8080/"
        },
        "id": "I3UbQG88Dq9D",
        "outputId": "d8104fe2-9c1f-429f-f054-62d616d9d04f"
      },
      "source": [
        "mae_test = mean_absolute_error(y_test, y_pred_test)\n",
        "mse_test = mean_squared_error(y_test, y_pred_test)\n",
        "rmse_test = np.sqrt(mse_test)\n",
        "r2_test = r2_score(y_test, y_pred_test)\n",
        "\n",
        "print('Test Regression #1 Metrics:')\n",
        "print()\n",
        "print('Mean Square Error:', mse_test)\n",
        "print('Root Mean Squared Error:', rmse_test)\n",
        "print('Mean Absolute Error:', mae_test)\n",
        "print('R^2:', r2_test)"
      ],
      "execution_count": null,
      "outputs": [
        {
          "output_type": "stream",
          "text": [
            "Test Regression #1 Metrics:\n",
            "\n",
            "Mean Square Error: 2199088.8671295564\n",
            "Root Mean Squared Error: 1482.9325227836755\n",
            "Mean Absolute Error: 986.2047646923478\n",
            "R^2: 0.2924472911831192\n"
          ],
          "name": "stdout"
        }
      ]
    },
    {
      "cell_type": "code",
      "metadata": {
        "colab": {
          "base_uri": "https://localhost:8080/"
        },
        "id": "PfxuybNxatGH",
        "outputId": "b2af6ba3-6148-4623-bc34-8d2137d648ca"
      },
      "source": [
        "mae_test2 = mean_absolute_error(y_test, y_pred_test2)\n",
        "mse_test2 = mean_squared_error(y_test, y_pred_test2)\n",
        "rmse_test2 = np.sqrt(mse_test2)\n",
        "r2_test2 = r2_score(y_test, y_pred_test2)\n",
        "\n",
        "print('Test Regression #2 Metrics:')\n",
        "print()\n",
        "print('Mean Square Error:', mse_test2)\n",
        "print('Root Mean Squared Error:', rmse_test2)\n",
        "print('Mean Absolute Error:', mae_test2)\n",
        "print('R^2:', r2_test2)"
      ],
      "execution_count": null,
      "outputs": [
        {
          "output_type": "stream",
          "text": [
            "Test Regression #2 Metrics:\n",
            "\n",
            "Mean Square Error: 1626524.8161409174\n",
            "Root Mean Squared Error: 1275.3528202583461\n",
            "Mean Absolute Error: 852.5244963012196\n",
            "R^2: 0.4766686981956404\n"
          ],
          "name": "stdout"
        }
      ]
    },
    {
      "cell_type": "code",
      "metadata": {
        "colab": {
          "base_uri": "https://localhost:8080/"
        },
        "id": "0lWZqj9ydoJh",
        "outputId": "3c009af4-a93a-429b-b39a-63b3f6098fff"
      },
      "source": [
        "mae_test3 = mean_absolute_error(y_test, y_pred_test3)\n",
        "mse_test3 = mean_squared_error(y_test, y_pred_test3)\n",
        "rmse_test3 = np.sqrt(mse_test3)\n",
        "r2_test3 = r2_score(y_test, y_pred_test3)\n",
        "\n",
        "print('Test Regression #3 Metrics:')\n",
        "print()\n",
        "print('Mean Square Error:', mse_test3)\n",
        "print('Root Mean Squared Error:', rmse_test3)\n",
        "print('Mean Absolute Error:', mae_test3)\n",
        "print('R^2:', r2_test3)"
      ],
      "execution_count": null,
      "outputs": [
        {
          "output_type": "stream",
          "text": [
            "Test Regression #3 Metrics:\n",
            "\n",
            "Mean Square Error: 1634290.031521748\n",
            "Root Mean Squared Error: 1278.3935354661912\n",
            "Mean Absolute Error: 855.3867369971023\n",
            "R^2: 0.4741702547450922\n"
          ],
          "name": "stdout"
        }
      ]
    },
    {
      "cell_type": "markdown",
      "metadata": {
        "id": "liFdx-rTBtKI"
      },
      "source": [
        "###What's the best test MAE you can get?"
      ]
    },
    {
      "cell_type": "markdown",
      "metadata": {
        "id": "JvsGq4zGa5H8"
      },
      "source": [
        "The best MAE I got was 852.52 for the features of handicapped friendly, number of rooms, amenities, and pets allowed."
      ]
    }
  ]
}